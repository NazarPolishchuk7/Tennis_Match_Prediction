{
 "cells": [
  {
   "cell_type": "code",
   "execution_count": 137,
   "id": "efbeb575",
   "metadata": {},
   "outputs": [],
   "source": [
    "#import \n",
    "import numpy as np\n",
    "import pandas as pd\n",
    "from sklearn.model_selection import train_test_split\n",
    "from sklearn.tree import DecisionTreeClassifier\n",
    "from sklearn.metrics import accuracy_score\n",
    "from sklearn.model_selection import GridSearchCV\n",
    "from sklearn.linear_model import LogisticRegression\n",
    "from sklearn.metrics import confusion_matrix\n",
    "import xgboost as xgb\n",
    "from sklearn.ensemble import RandomForestClassifier\n",
    "from sklearn.svm import SVC\n",
    "from sklearn.model_selection import cross_val_score\n",
    "from sklearn.model_selection import RandomizedSearchCV\n",
    "from sklearn.preprocessing import StandardScaler"
   ]
  },
  {
   "cell_type": "code",
   "execution_count": 140,
   "id": "05fe776e",
   "metadata": {},
   "outputs": [],
   "source": [
    "df = pd.read_csv('C:/Users/nazar/Tennis_Match_Prediction/data/processed_data/simple_model_dataset_50_50.csv')"
   ]
  },
  {
   "cell_type": "code",
   "execution_count": 139,
   "id": "10b55cc0",
   "metadata": {},
   "outputs": [
    {
     "data": {
      "text/html": [
       "<div>\n",
       "<style scoped>\n",
       "    .dataframe tbody tr th:only-of-type {\n",
       "        vertical-align: middle;\n",
       "    }\n",
       "\n",
       "    .dataframe tbody tr th {\n",
       "        vertical-align: top;\n",
       "    }\n",
       "\n",
       "    .dataframe thead th {\n",
       "        text-align: right;\n",
       "    }\n",
       "</style>\n",
       "<table border=\"1\" class=\"dataframe\">\n",
       "  <thead>\n",
       "    <tr style=\"text-align: right;\">\n",
       "      <th></th>\n",
       "      <th>draw_size</th>\n",
       "      <th>match_num</th>\n",
       "      <th>winner_ht</th>\n",
       "      <th>winner_age</th>\n",
       "      <th>loser_ht</th>\n",
       "      <th>loser_age</th>\n",
       "      <th>winner_rank</th>\n",
       "      <th>winner_rank_points</th>\n",
       "      <th>loser_rank</th>\n",
       "      <th>loser_rank_points</th>\n",
       "      <th>...</th>\n",
       "      <th>winner_hand_R</th>\n",
       "      <th>winner_hand_U</th>\n",
       "      <th>tourney_level_A</th>\n",
       "      <th>tourney_level_D</th>\n",
       "      <th>tourney_level_F</th>\n",
       "      <th>tourney_level_G</th>\n",
       "      <th>tourney_level_M</th>\n",
       "      <th>loser_hand_L</th>\n",
       "      <th>loser_hand_R</th>\n",
       "      <th>loser_hand_U</th>\n",
       "    </tr>\n",
       "  </thead>\n",
       "  <tbody>\n",
       "    <tr>\n",
       "      <th>0</th>\n",
       "      <td>128</td>\n",
       "      <td>171</td>\n",
       "      <td>191.0</td>\n",
       "      <td>20.6</td>\n",
       "      <td>193.0</td>\n",
       "      <td>22.0</td>\n",
       "      <td>53.0</td>\n",
       "      <td>879.0</td>\n",
       "      <td>8.0</td>\n",
       "      <td>3625.0</td>\n",
       "      <td>...</td>\n",
       "      <td>0</td>\n",
       "      <td>0</td>\n",
       "      <td>0</td>\n",
       "      <td>0</td>\n",
       "      <td>0</td>\n",
       "      <td>1</td>\n",
       "      <td>0</td>\n",
       "      <td>0</td>\n",
       "      <td>1</td>\n",
       "      <td>0</td>\n",
       "    </tr>\n",
       "    <tr>\n",
       "      <th>1</th>\n",
       "      <td>32</td>\n",
       "      <td>30</td>\n",
       "      <td>180.0</td>\n",
       "      <td>25.2</td>\n",
       "      <td>175.0</td>\n",
       "      <td>31.8</td>\n",
       "      <td>54.0</td>\n",
       "      <td>860.0</td>\n",
       "      <td>4.0</td>\n",
       "      <td>5440.0</td>\n",
       "      <td>...</td>\n",
       "      <td>1</td>\n",
       "      <td>0</td>\n",
       "      <td>1</td>\n",
       "      <td>0</td>\n",
       "      <td>0</td>\n",
       "      <td>0</td>\n",
       "      <td>0</td>\n",
       "      <td>0</td>\n",
       "      <td>1</td>\n",
       "      <td>0</td>\n",
       "    </tr>\n",
       "    <tr>\n",
       "      <th>2</th>\n",
       "      <td>128</td>\n",
       "      <td>1133</td>\n",
       "      <td>193.0</td>\n",
       "      <td>20.7</td>\n",
       "      <td>191.0</td>\n",
       "      <td>23.9</td>\n",
       "      <td>6.0</td>\n",
       "      <td>4080.0</td>\n",
       "      <td>116.0</td>\n",
       "      <td>493.0</td>\n",
       "      <td>...</td>\n",
       "      <td>1</td>\n",
       "      <td>0</td>\n",
       "      <td>0</td>\n",
       "      <td>0</td>\n",
       "      <td>0</td>\n",
       "      <td>1</td>\n",
       "      <td>0</td>\n",
       "      <td>1</td>\n",
       "      <td>0</td>\n",
       "      <td>0</td>\n",
       "    </tr>\n",
       "    <tr>\n",
       "      <th>3</th>\n",
       "      <td>128</td>\n",
       "      <td>30</td>\n",
       "      <td>190.0</td>\n",
       "      <td>26.1</td>\n",
       "      <td>190.0</td>\n",
       "      <td>31.9</td>\n",
       "      <td>36.0</td>\n",
       "      <td>1125.0</td>\n",
       "      <td>216.0</td>\n",
       "      <td>226.0</td>\n",
       "      <td>...</td>\n",
       "      <td>0</td>\n",
       "      <td>0</td>\n",
       "      <td>0</td>\n",
       "      <td>0</td>\n",
       "      <td>0</td>\n",
       "      <td>1</td>\n",
       "      <td>0</td>\n",
       "      <td>0</td>\n",
       "      <td>1</td>\n",
       "      <td>0</td>\n",
       "    </tr>\n",
       "    <tr>\n",
       "      <th>4</th>\n",
       "      <td>16</td>\n",
       "      <td>261</td>\n",
       "      <td>206.0</td>\n",
       "      <td>36.6</td>\n",
       "      <td>193.0</td>\n",
       "      <td>26.5</td>\n",
       "      <td>24.0</td>\n",
       "      <td>1991.0</td>\n",
       "      <td>238.0</td>\n",
       "      <td>264.0</td>\n",
       "      <td>...</td>\n",
       "      <td>1</td>\n",
       "      <td>0</td>\n",
       "      <td>1</td>\n",
       "      <td>0</td>\n",
       "      <td>0</td>\n",
       "      <td>0</td>\n",
       "      <td>0</td>\n",
       "      <td>0</td>\n",
       "      <td>1</td>\n",
       "      <td>0</td>\n",
       "    </tr>\n",
       "  </tbody>\n",
       "</table>\n",
       "<p>5 rows × 26 columns</p>\n",
       "</div>"
      ],
      "text/plain": [
       "   draw_size  match_num  winner_ht  winner_age  loser_ht  loser_age  \\\n",
       "0        128        171      191.0        20.6     193.0       22.0   \n",
       "1         32         30      180.0        25.2     175.0       31.8   \n",
       "2        128       1133      193.0        20.7     191.0       23.9   \n",
       "3        128         30      190.0        26.1     190.0       31.9   \n",
       "4         16        261      206.0        36.6     193.0       26.5   \n",
       "\n",
       "   winner_rank  winner_rank_points  loser_rank  loser_rank_points  ...  \\\n",
       "0         53.0               879.0         8.0             3625.0  ...   \n",
       "1         54.0               860.0         4.0             5440.0  ...   \n",
       "2          6.0              4080.0       116.0              493.0  ...   \n",
       "3         36.0              1125.0       216.0              226.0  ...   \n",
       "4         24.0              1991.0       238.0              264.0  ...   \n",
       "\n",
       "   winner_hand_R  winner_hand_U  tourney_level_A  tourney_level_D  \\\n",
       "0              0              0                0                0   \n",
       "1              1              0                1                0   \n",
       "2              1              0                0                0   \n",
       "3              0              0                0                0   \n",
       "4              1              0                1                0   \n",
       "\n",
       "   tourney_level_F  tourney_level_G  tourney_level_M  loser_hand_L  \\\n",
       "0                0                1                0             0   \n",
       "1                0                0                0             0   \n",
       "2                0                1                0             1   \n",
       "3                0                1                0             0   \n",
       "4                0                0                0             0   \n",
       "\n",
       "   loser_hand_R  loser_hand_U  \n",
       "0             1             0  \n",
       "1             1             0  \n",
       "2             0             0  \n",
       "3             1             0  \n",
       "4             1             0  \n",
       "\n",
       "[5 rows x 26 columns]"
      ]
     },
     "execution_count": 139,
     "metadata": {},
     "output_type": "execute_result"
    }
   ],
   "source": [
    "df.head()"
   ]
  },
  {
   "cell_type": "code",
   "execution_count": null,
   "id": "55a93ec1",
   "metadata": {},
   "outputs": [],
   "source": []
  },
  {
   "cell_type": "code",
   "execution_count": 104,
   "id": "2bab0ab9",
   "metadata": {},
   "outputs": [],
   "source": [
    "#creating y and X"
   ]
  },
  {
   "cell_type": "code",
   "execution_count": 105,
   "id": "e8dc53fc",
   "metadata": {},
   "outputs": [],
   "source": [
    "y = df['target']\n",
    "X =df.drop('target',axis = 1)"
   ]
  },
  {
   "cell_type": "code",
   "execution_count": 106,
   "id": "9d2dd92d",
   "metadata": {},
   "outputs": [],
   "source": [
    "#split data\n",
    "X_train, X_valid, y_train, y_valid = train_test_split(X,y,test_size = 0.3, random_state = 17)"
   ]
  },
  {
   "cell_type": "code",
   "execution_count": 107,
   "id": "0cb5c034",
   "metadata": {},
   "outputs": [
    {
     "data": {
      "text/plain": [
       "((25044, 25), (10734, 25))"
      ]
     },
     "execution_count": 107,
     "metadata": {},
     "output_type": "execute_result"
    }
   ],
   "source": [
    "X_train.shape, X_valid.shape"
   ]
  },
  {
   "cell_type": "code",
   "execution_count": 108,
   "id": "3c6b2319",
   "metadata": {},
   "outputs": [
    {
     "data": {
      "text/plain": [
       "0.49963664821957626"
      ]
     },
     "execution_count": 108,
     "metadata": {},
     "output_type": "execute_result"
    }
   ],
   "source": [
    "#distribution of target \n",
    "len(df[df['target' ]==1])/len(df['target'])"
   ]
  },
  {
   "cell_type": "code",
   "execution_count": 109,
   "id": "67940b3a",
   "metadata": {},
   "outputs": [],
   "source": [
    "#create a Decision Tree model\n",
    "clf = DecisionTreeClassifier(random_state = 17)"
   ]
  },
  {
   "cell_type": "code",
   "execution_count": 110,
   "id": "41b78b94",
   "metadata": {},
   "outputs": [
    {
     "data": {
      "text/plain": [
       "0.5002393136443859"
      ]
     },
     "execution_count": 110,
     "metadata": {},
     "output_type": "execute_result"
    }
   ],
   "source": [
    "#cross validation\n",
    "np.mean(cross_val_score(clf,X_train,y_train, cv= 5 ))"
   ]
  },
  {
   "cell_type": "code",
   "execution_count": 146,
   "id": "ca1cf542",
   "metadata": {},
   "outputs": [],
   "source": [
    "#parameters for tree\n",
    "tree_params = {'max_depth':np.arange(1,11),'max_features':[0.5,0.7,1]}"
   ]
  },
  {
   "cell_type": "code",
   "execution_count": 147,
   "id": "a959d12c",
   "metadata": {},
   "outputs": [],
   "source": [
    "#looking for the best params\n",
    "tree_grid = GridSearchCV(clf, tree_params, cv = 5, n_jobs = -1)"
   ]
  },
  {
   "cell_type": "code",
   "execution_count": 148,
   "id": "b4eccd75",
   "metadata": {},
   "outputs": [
    {
     "name": "stdout",
     "output_type": "stream",
     "text": [
      "CPU times: total: 656 ms\n",
      "Wall time: 3.28 s\n"
     ]
    }
   ],
   "source": [
    "%%time\n",
    "tree_grid.fit(X_train,y_train);"
   ]
  },
  {
   "cell_type": "code",
   "execution_count": 145,
   "id": "901872b0",
   "metadata": {},
   "outputs": [
    {
     "data": {
      "text/plain": [
       "(0.5033142659506817, {'max_depth': 5, 'max_features': 0.5})"
      ]
     },
     "execution_count": 145,
     "metadata": {},
     "output_type": "execute_result"
    }
   ],
   "source": [
    "tree_grid.best_score_, tree_grid.best_params_"
   ]
  },
  {
   "cell_type": "code",
   "execution_count": 114,
   "id": "a7709050",
   "metadata": {},
   "outputs": [],
   "source": [
    "tree_valid_pred = tree_grid.predict(X_valid)"
   ]
  },
  {
   "cell_type": "code",
   "execution_count": 115,
   "id": "195f1fbb",
   "metadata": {},
   "outputs": [],
   "source": [
    "accuracy = accuracy_score(y_valid, tree_valid_pred)"
   ]
  },
  {
   "cell_type": "code",
   "execution_count": 116,
   "id": "1bfd5b93",
   "metadata": {},
   "outputs": [
    {
     "data": {
      "text/plain": [
       "0.4936649897521893"
      ]
     },
     "execution_count": 116,
     "metadata": {},
     "output_type": "execute_result"
    }
   ],
   "source": [
    "accuracy"
   ]
  },
  {
   "cell_type": "code",
   "execution_count": 117,
   "id": "31426fca",
   "metadata": {},
   "outputs": [
    {
     "data": {
      "text/plain": [
       "array([[ 940, 4463],\n",
       "       [ 972, 4359]], dtype=int64)"
      ]
     },
     "execution_count": 117,
     "metadata": {},
     "output_type": "execute_result"
    }
   ],
   "source": [
    "confusion_matrix(y_valid, tree_valid_pred)"
   ]
  },
  {
   "cell_type": "code",
   "execution_count": 118,
   "id": "ba5684c8",
   "metadata": {},
   "outputs": [],
   "source": [
    "#model predicts only tartet 1"
   ]
  },
  {
   "cell_type": "code",
   "execution_count": 119,
   "id": "b9358989",
   "metadata": {},
   "outputs": [
    {
     "name": "stdout",
     "output_type": "stream",
     "text": [
      "DecisonTreeClassifier with max_depth 1\n",
      "Accuracy : 0.4945966089062791\n",
      "[[ 885 4518]\n",
      " [ 907 4424]]\n",
      "DecisonTreeClassifier with max_depth 2\n",
      "Accuracy : 0.4942239612446432\n",
      "[[ 936 4467]\n",
      " [ 962 4369]]\n",
      "DecisonTreeClassifier with max_depth 3\n",
      "Accuracy : 0.49552822806036895\n",
      "[[ 913 4490]\n",
      " [ 925 4406]]\n",
      "DecisonTreeClassifier with max_depth 4\n",
      "Accuracy : 0.49357182783678033\n",
      "[[ 846 4557]\n",
      " [ 879 4452]]\n",
      "DecisonTreeClassifier with max_depth 5\n",
      "Accuracy : 0.4936649897521893\n",
      "[[ 838 4565]\n",
      " [ 870 4461]]\n",
      "DecisonTreeClassifier with max_depth 6\n",
      "Accuracy : 0.4946897708216881\n",
      "[[ 772 4631]\n",
      " [ 793 4538]]\n",
      "DecisonTreeClassifier with max_depth 7\n",
      "Accuracy : 0.4956213899757779\n",
      "[[ 854 4549]\n",
      " [ 865 4466]]\n",
      "DecisonTreeClassifier with max_depth 8\n",
      "Accuracy : 0.4965530091298677\n",
      "[[ 837 4566]\n",
      " [ 838 4493]]\n",
      "DecisonTreeClassifier with max_depth 9\n",
      "Accuracy : 0.49972051425377306\n",
      "[[ 716 4687]\n",
      " [ 683 4648]]\n",
      "DecisonTreeClassifier with max_depth 10\n",
      "Accuracy : 0.49850940935345633\n",
      "[[1008 4395]\n",
      " [ 988 4343]]\n",
      "DecisonTreeClassifier with max_depth 11\n",
      "Accuracy : 0.504937581516676\n",
      "[[3273 2130]\n",
      " [3184 2147]]\n",
      "DecisonTreeClassifier with max_depth 12\n",
      "Accuracy : 0.4928265325135085\n",
      "[[1902 3501]\n",
      " [1943 3388]]\n",
      "DecisonTreeClassifier with max_depth 13\n",
      "Accuracy : 0.49487609465250604\n",
      "[[1160 4243]\n",
      " [1179 4152]]\n",
      "DecisonTreeClassifier with max_depth 14\n",
      "Accuracy : 0.4958077138065959\n",
      "[[1376 4027]\n",
      " [1385 3946]]\n",
      "DecisonTreeClassifier with max_depth 15\n",
      "Accuracy : 0.49012483696664805\n",
      "[[1625 3778]\n",
      " [1695 3636]]\n",
      "DecisonTreeClassifier with max_depth 16\n",
      "Accuracy : 0.49254704676728156\n",
      "[[1479 3924]\n",
      " [1523 3808]]\n",
      "DecisonTreeClassifier with max_depth 17\n",
      "Accuracy : 0.49264020868269054\n",
      "[[1484 3919]\n",
      " [1527 3804]]\n",
      "DecisonTreeClassifier with max_depth 18\n",
      "Accuracy : 0.490217998882057\n",
      "[[1606 3797]\n",
      " [1675 3656]]\n",
      "DecisonTreeClassifier with max_depth 19\n",
      "Accuracy : 0.48965902738960315\n",
      "[[1631 3772]\n",
      " [1706 3625]]\n",
      "DecisonTreeClassifier with max_depth 20\n",
      "Accuracy : 0.4929196944289175\n",
      "[[1835 3568]\n",
      " [1875 3456]]\n",
      "DecisonTreeClassifier with max_depth 21\n",
      "Accuracy : 0.48760946525060556\n",
      "[[2462 2941]\n",
      " [2559 2772]]\n",
      "DecisonTreeClassifier with max_depth 22\n",
      "Accuracy : 0.4986025712688653\n",
      "[[2789 2614]\n",
      " [2768 2563]]\n",
      "DecisonTreeClassifier with max_depth 23\n",
      "Accuracy : 0.4978572759455934\n",
      "[[2688 2715]\n",
      " [2675 2656]]\n",
      "DecisonTreeClassifier with max_depth 24\n",
      "Accuracy : 0.4945034469908701\n",
      "[[2528 2875]\n",
      " [2551 2780]]\n"
     ]
    }
   ],
   "source": [
    "#find best model\n",
    "for i in range(1,25):\n",
    "    clf_1=DecisionTreeClassifier(max_depth = i)\n",
    "    clf_1.fit(X_train,y_train)\n",
    "    y_pred_clf = clf_1.predict(X_valid)\n",
    "    print(f'DecisonTreeClassifier with max_depth {i}')\n",
    "    print(f'Accuracy : {accuracy_score(y_valid,y_pred_clf)}')\n",
    "    print(confusion_matrix(y_valid,y_pred_clf))\n",
    "\n"
   ]
  },
  {
   "cell_type": "code",
   "execution_count": 120,
   "id": "b1075ae8",
   "metadata": {},
   "outputs": [],
   "source": [
    "clf_simple = DecisionTreeClassifier()"
   ]
  },
  {
   "cell_type": "code",
   "execution_count": 121,
   "id": "46d33d09",
   "metadata": {},
   "outputs": [
    {
     "data": {
      "text/html": [
       "<style>#sk-container-id-8 {color: black;}#sk-container-id-8 pre{padding: 0;}#sk-container-id-8 div.sk-toggleable {background-color: white;}#sk-container-id-8 label.sk-toggleable__label {cursor: pointer;display: block;width: 100%;margin-bottom: 0;padding: 0.3em;box-sizing: border-box;text-align: center;}#sk-container-id-8 label.sk-toggleable__label-arrow:before {content: \"▸\";float: left;margin-right: 0.25em;color: #696969;}#sk-container-id-8 label.sk-toggleable__label-arrow:hover:before {color: black;}#sk-container-id-8 div.sk-estimator:hover label.sk-toggleable__label-arrow:before {color: black;}#sk-container-id-8 div.sk-toggleable__content {max-height: 0;max-width: 0;overflow: hidden;text-align: left;background-color: #f0f8ff;}#sk-container-id-8 div.sk-toggleable__content pre {margin: 0.2em;color: black;border-radius: 0.25em;background-color: #f0f8ff;}#sk-container-id-8 input.sk-toggleable__control:checked~div.sk-toggleable__content {max-height: 200px;max-width: 100%;overflow: auto;}#sk-container-id-8 input.sk-toggleable__control:checked~label.sk-toggleable__label-arrow:before {content: \"▾\";}#sk-container-id-8 div.sk-estimator input.sk-toggleable__control:checked~label.sk-toggleable__label {background-color: #d4ebff;}#sk-container-id-8 div.sk-label input.sk-toggleable__control:checked~label.sk-toggleable__label {background-color: #d4ebff;}#sk-container-id-8 input.sk-hidden--visually {border: 0;clip: rect(1px 1px 1px 1px);clip: rect(1px, 1px, 1px, 1px);height: 1px;margin: -1px;overflow: hidden;padding: 0;position: absolute;width: 1px;}#sk-container-id-8 div.sk-estimator {font-family: monospace;background-color: #f0f8ff;border: 1px dotted black;border-radius: 0.25em;box-sizing: border-box;margin-bottom: 0.5em;}#sk-container-id-8 div.sk-estimator:hover {background-color: #d4ebff;}#sk-container-id-8 div.sk-parallel-item::after {content: \"\";width: 100%;border-bottom: 1px solid gray;flex-grow: 1;}#sk-container-id-8 div.sk-label:hover label.sk-toggleable__label {background-color: #d4ebff;}#sk-container-id-8 div.sk-serial::before {content: \"\";position: absolute;border-left: 1px solid gray;box-sizing: border-box;top: 0;bottom: 0;left: 50%;z-index: 0;}#sk-container-id-8 div.sk-serial {display: flex;flex-direction: column;align-items: center;background-color: white;padding-right: 0.2em;padding-left: 0.2em;position: relative;}#sk-container-id-8 div.sk-item {position: relative;z-index: 1;}#sk-container-id-8 div.sk-parallel {display: flex;align-items: stretch;justify-content: center;background-color: white;position: relative;}#sk-container-id-8 div.sk-item::before, #sk-container-id-8 div.sk-parallel-item::before {content: \"\";position: absolute;border-left: 1px solid gray;box-sizing: border-box;top: 0;bottom: 0;left: 50%;z-index: -1;}#sk-container-id-8 div.sk-parallel-item {display: flex;flex-direction: column;z-index: 1;position: relative;background-color: white;}#sk-container-id-8 div.sk-parallel-item:first-child::after {align-self: flex-end;width: 50%;}#sk-container-id-8 div.sk-parallel-item:last-child::after {align-self: flex-start;width: 50%;}#sk-container-id-8 div.sk-parallel-item:only-child::after {width: 0;}#sk-container-id-8 div.sk-dashed-wrapped {border: 1px dashed gray;margin: 0 0.4em 0.5em 0.4em;box-sizing: border-box;padding-bottom: 0.4em;background-color: white;}#sk-container-id-8 div.sk-label label {font-family: monospace;font-weight: bold;display: inline-block;line-height: 1.2em;}#sk-container-id-8 div.sk-label-container {text-align: center;}#sk-container-id-8 div.sk-container {/* jupyter's `normalize.less` sets `[hidden] { display: none; }` but bootstrap.min.css set `[hidden] { display: none !important; }` so we also need the `!important` here to be able to override the default hidden behavior on the sphinx rendered scikit-learn.org. See: https://github.com/scikit-learn/scikit-learn/issues/21755 */display: inline-block !important;position: relative;}#sk-container-id-8 div.sk-text-repr-fallback {display: none;}</style><div id=\"sk-container-id-8\" class=\"sk-top-container\"><div class=\"sk-text-repr-fallback\"><pre>DecisionTreeClassifier()</pre><b>In a Jupyter environment, please rerun this cell to show the HTML representation or trust the notebook. <br />On GitHub, the HTML representation is unable to render, please try loading this page with nbviewer.org.</b></div><div class=\"sk-container\" hidden><div class=\"sk-item\"><div class=\"sk-estimator sk-toggleable\"><input class=\"sk-toggleable__control sk-hidden--visually\" id=\"sk-estimator-id-10\" type=\"checkbox\" checked><label for=\"sk-estimator-id-10\" class=\"sk-toggleable__label sk-toggleable__label-arrow\">DecisionTreeClassifier</label><div class=\"sk-toggleable__content\"><pre>DecisionTreeClassifier()</pre></div></div></div></div></div>"
      ],
      "text/plain": [
       "DecisionTreeClassifier()"
      ]
     },
     "execution_count": 121,
     "metadata": {},
     "output_type": "execute_result"
    }
   ],
   "source": [
    "clf_simple.fit(X_train,y_train)"
   ]
  },
  {
   "cell_type": "code",
   "execution_count": 122,
   "id": "57a1b57b",
   "metadata": {},
   "outputs": [],
   "source": [
    "clf_simple_pred = clf_simple.predict(X_valid)"
   ]
  },
  {
   "cell_type": "code",
   "execution_count": 123,
   "id": "549055fe",
   "metadata": {},
   "outputs": [
    {
     "data": {
      "text/plain": [
       "0.49590087572200486"
      ]
     },
     "execution_count": 123,
     "metadata": {},
     "output_type": "execute_result"
    }
   ],
   "source": [
    "accuracy_score(y_valid,clf_simple_pred)"
   ]
  },
  {
   "cell_type": "code",
   "execution_count": 124,
   "id": "7929e52a",
   "metadata": {},
   "outputs": [
    {
     "data": {
      "text/plain": [
       "array([[2699, 2704],\n",
       "       [2707, 2624]], dtype=int64)"
      ]
     },
     "execution_count": 124,
     "metadata": {},
     "output_type": "execute_result"
    }
   ],
   "source": [
    "confusion_matrix(y_valid,clf_simple_pred)"
   ]
  },
  {
   "cell_type": "code",
   "execution_count": 125,
   "id": "8ce26058",
   "metadata": {},
   "outputs": [],
   "source": [
    "#DecisonTreeClassifier with max_depth 11\n",
    "#Accuracy : 0.5053102291783119 - best model"
   ]
  },
  {
   "cell_type": "code",
   "execution_count": null,
   "id": "717043e1",
   "metadata": {},
   "outputs": [],
   "source": []
  },
  {
   "cell_type": "code",
   "execution_count": 126,
   "id": "430b4158",
   "metadata": {},
   "outputs": [],
   "source": [
    "# set up max_depth for tree"
   ]
  },
  {
   "cell_type": "code",
   "execution_count": 127,
   "id": "dded0de1",
   "metadata": {},
   "outputs": [],
   "source": [
    "tree_params = {'max_depth':np.arange(1,11), 'max_features':[0.5,0.7,1]}"
   ]
  },
  {
   "cell_type": "code",
   "execution_count": 128,
   "id": "f0f75d29",
   "metadata": {},
   "outputs": [],
   "source": [
    "tree_grid = GridSearchCV(clf,tree_params, cv = 5, n_jobs = -1)"
   ]
  },
  {
   "cell_type": "code",
   "execution_count": 129,
   "id": "3c3f94b1",
   "metadata": {},
   "outputs": [
    {
     "data": {
      "text/html": [
       "<style>#sk-container-id-9 {color: black;}#sk-container-id-9 pre{padding: 0;}#sk-container-id-9 div.sk-toggleable {background-color: white;}#sk-container-id-9 label.sk-toggleable__label {cursor: pointer;display: block;width: 100%;margin-bottom: 0;padding: 0.3em;box-sizing: border-box;text-align: center;}#sk-container-id-9 label.sk-toggleable__label-arrow:before {content: \"▸\";float: left;margin-right: 0.25em;color: #696969;}#sk-container-id-9 label.sk-toggleable__label-arrow:hover:before {color: black;}#sk-container-id-9 div.sk-estimator:hover label.sk-toggleable__label-arrow:before {color: black;}#sk-container-id-9 div.sk-toggleable__content {max-height: 0;max-width: 0;overflow: hidden;text-align: left;background-color: #f0f8ff;}#sk-container-id-9 div.sk-toggleable__content pre {margin: 0.2em;color: black;border-radius: 0.25em;background-color: #f0f8ff;}#sk-container-id-9 input.sk-toggleable__control:checked~div.sk-toggleable__content {max-height: 200px;max-width: 100%;overflow: auto;}#sk-container-id-9 input.sk-toggleable__control:checked~label.sk-toggleable__label-arrow:before {content: \"▾\";}#sk-container-id-9 div.sk-estimator input.sk-toggleable__control:checked~label.sk-toggleable__label {background-color: #d4ebff;}#sk-container-id-9 div.sk-label input.sk-toggleable__control:checked~label.sk-toggleable__label {background-color: #d4ebff;}#sk-container-id-9 input.sk-hidden--visually {border: 0;clip: rect(1px 1px 1px 1px);clip: rect(1px, 1px, 1px, 1px);height: 1px;margin: -1px;overflow: hidden;padding: 0;position: absolute;width: 1px;}#sk-container-id-9 div.sk-estimator {font-family: monospace;background-color: #f0f8ff;border: 1px dotted black;border-radius: 0.25em;box-sizing: border-box;margin-bottom: 0.5em;}#sk-container-id-9 div.sk-estimator:hover {background-color: #d4ebff;}#sk-container-id-9 div.sk-parallel-item::after {content: \"\";width: 100%;border-bottom: 1px solid gray;flex-grow: 1;}#sk-container-id-9 div.sk-label:hover label.sk-toggleable__label {background-color: #d4ebff;}#sk-container-id-9 div.sk-serial::before {content: \"\";position: absolute;border-left: 1px solid gray;box-sizing: border-box;top: 0;bottom: 0;left: 50%;z-index: 0;}#sk-container-id-9 div.sk-serial {display: flex;flex-direction: column;align-items: center;background-color: white;padding-right: 0.2em;padding-left: 0.2em;position: relative;}#sk-container-id-9 div.sk-item {position: relative;z-index: 1;}#sk-container-id-9 div.sk-parallel {display: flex;align-items: stretch;justify-content: center;background-color: white;position: relative;}#sk-container-id-9 div.sk-item::before, #sk-container-id-9 div.sk-parallel-item::before {content: \"\";position: absolute;border-left: 1px solid gray;box-sizing: border-box;top: 0;bottom: 0;left: 50%;z-index: -1;}#sk-container-id-9 div.sk-parallel-item {display: flex;flex-direction: column;z-index: 1;position: relative;background-color: white;}#sk-container-id-9 div.sk-parallel-item:first-child::after {align-self: flex-end;width: 50%;}#sk-container-id-9 div.sk-parallel-item:last-child::after {align-self: flex-start;width: 50%;}#sk-container-id-9 div.sk-parallel-item:only-child::after {width: 0;}#sk-container-id-9 div.sk-dashed-wrapped {border: 1px dashed gray;margin: 0 0.4em 0.5em 0.4em;box-sizing: border-box;padding-bottom: 0.4em;background-color: white;}#sk-container-id-9 div.sk-label label {font-family: monospace;font-weight: bold;display: inline-block;line-height: 1.2em;}#sk-container-id-9 div.sk-label-container {text-align: center;}#sk-container-id-9 div.sk-container {/* jupyter's `normalize.less` sets `[hidden] { display: none; }` but bootstrap.min.css set `[hidden] { display: none !important; }` so we also need the `!important` here to be able to override the default hidden behavior on the sphinx rendered scikit-learn.org. See: https://github.com/scikit-learn/scikit-learn/issues/21755 */display: inline-block !important;position: relative;}#sk-container-id-9 div.sk-text-repr-fallback {display: none;}</style><div id=\"sk-container-id-9\" class=\"sk-top-container\"><div class=\"sk-text-repr-fallback\"><pre>GridSearchCV(cv=5, estimator=DecisionTreeClassifier(random_state=17), n_jobs=-1,\n",
       "             param_grid={&#x27;max_depth&#x27;: array([ 1,  2,  3,  4,  5,  6,  7,  8,  9, 10]),\n",
       "                         &#x27;max_features&#x27;: [0.5, 0.7, 1]})</pre><b>In a Jupyter environment, please rerun this cell to show the HTML representation or trust the notebook. <br />On GitHub, the HTML representation is unable to render, please try loading this page with nbviewer.org.</b></div><div class=\"sk-container\" hidden><div class=\"sk-item sk-dashed-wrapped\"><div class=\"sk-label-container\"><div class=\"sk-label sk-toggleable\"><input class=\"sk-toggleable__control sk-hidden--visually\" id=\"sk-estimator-id-11\" type=\"checkbox\" ><label for=\"sk-estimator-id-11\" class=\"sk-toggleable__label sk-toggleable__label-arrow\">GridSearchCV</label><div class=\"sk-toggleable__content\"><pre>GridSearchCV(cv=5, estimator=DecisionTreeClassifier(random_state=17), n_jobs=-1,\n",
       "             param_grid={&#x27;max_depth&#x27;: array([ 1,  2,  3,  4,  5,  6,  7,  8,  9, 10]),\n",
       "                         &#x27;max_features&#x27;: [0.5, 0.7, 1]})</pre></div></div></div><div class=\"sk-parallel\"><div class=\"sk-parallel-item\"><div class=\"sk-item\"><div class=\"sk-label-container\"><div class=\"sk-label sk-toggleable\"><input class=\"sk-toggleable__control sk-hidden--visually\" id=\"sk-estimator-id-12\" type=\"checkbox\" ><label for=\"sk-estimator-id-12\" class=\"sk-toggleable__label sk-toggleable__label-arrow\">estimator: DecisionTreeClassifier</label><div class=\"sk-toggleable__content\"><pre>DecisionTreeClassifier(random_state=17)</pre></div></div></div><div class=\"sk-serial\"><div class=\"sk-item\"><div class=\"sk-estimator sk-toggleable\"><input class=\"sk-toggleable__control sk-hidden--visually\" id=\"sk-estimator-id-13\" type=\"checkbox\" ><label for=\"sk-estimator-id-13\" class=\"sk-toggleable__label sk-toggleable__label-arrow\">DecisionTreeClassifier</label><div class=\"sk-toggleable__content\"><pre>DecisionTreeClassifier(random_state=17)</pre></div></div></div></div></div></div></div></div></div></div>"
      ],
      "text/plain": [
       "GridSearchCV(cv=5, estimator=DecisionTreeClassifier(random_state=17), n_jobs=-1,\n",
       "             param_grid={'max_depth': array([ 1,  2,  3,  4,  5,  6,  7,  8,  9, 10]),\n",
       "                         'max_features': [0.5, 0.7, 1]})"
      ]
     },
     "execution_count": 129,
     "metadata": {},
     "output_type": "execute_result"
    }
   ],
   "source": [
    "tree_grid.fit(X_train, y_train)"
   ]
  },
  {
   "cell_type": "code",
   "execution_count": 130,
   "id": "26bb9581",
   "metadata": {},
   "outputs": [
    {
     "data": {
      "text/plain": [
       "(0.5033142659506817, {'max_depth': 5, 'max_features': 0.5})"
      ]
     },
     "execution_count": 130,
     "metadata": {},
     "output_type": "execute_result"
    }
   ],
   "source": [
    "tree_grid.best_score_, tree_grid.best_params_"
   ]
  },
  {
   "cell_type": "code",
   "execution_count": 131,
   "id": "d2ab2070",
   "metadata": {},
   "outputs": [],
   "source": [
    "clf_1 = DecisionTreeClassifier(max_depth = 5, max_features = 0.5,random_state = 17)"
   ]
  },
  {
   "cell_type": "code",
   "execution_count": 132,
   "id": "0bd03caa",
   "metadata": {},
   "outputs": [
    {
     "data": {
      "text/html": [
       "<style>#sk-container-id-10 {color: black;}#sk-container-id-10 pre{padding: 0;}#sk-container-id-10 div.sk-toggleable {background-color: white;}#sk-container-id-10 label.sk-toggleable__label {cursor: pointer;display: block;width: 100%;margin-bottom: 0;padding: 0.3em;box-sizing: border-box;text-align: center;}#sk-container-id-10 label.sk-toggleable__label-arrow:before {content: \"▸\";float: left;margin-right: 0.25em;color: #696969;}#sk-container-id-10 label.sk-toggleable__label-arrow:hover:before {color: black;}#sk-container-id-10 div.sk-estimator:hover label.sk-toggleable__label-arrow:before {color: black;}#sk-container-id-10 div.sk-toggleable__content {max-height: 0;max-width: 0;overflow: hidden;text-align: left;background-color: #f0f8ff;}#sk-container-id-10 div.sk-toggleable__content pre {margin: 0.2em;color: black;border-radius: 0.25em;background-color: #f0f8ff;}#sk-container-id-10 input.sk-toggleable__control:checked~div.sk-toggleable__content {max-height: 200px;max-width: 100%;overflow: auto;}#sk-container-id-10 input.sk-toggleable__control:checked~label.sk-toggleable__label-arrow:before {content: \"▾\";}#sk-container-id-10 div.sk-estimator input.sk-toggleable__control:checked~label.sk-toggleable__label {background-color: #d4ebff;}#sk-container-id-10 div.sk-label input.sk-toggleable__control:checked~label.sk-toggleable__label {background-color: #d4ebff;}#sk-container-id-10 input.sk-hidden--visually {border: 0;clip: rect(1px 1px 1px 1px);clip: rect(1px, 1px, 1px, 1px);height: 1px;margin: -1px;overflow: hidden;padding: 0;position: absolute;width: 1px;}#sk-container-id-10 div.sk-estimator {font-family: monospace;background-color: #f0f8ff;border: 1px dotted black;border-radius: 0.25em;box-sizing: border-box;margin-bottom: 0.5em;}#sk-container-id-10 div.sk-estimator:hover {background-color: #d4ebff;}#sk-container-id-10 div.sk-parallel-item::after {content: \"\";width: 100%;border-bottom: 1px solid gray;flex-grow: 1;}#sk-container-id-10 div.sk-label:hover label.sk-toggleable__label {background-color: #d4ebff;}#sk-container-id-10 div.sk-serial::before {content: \"\";position: absolute;border-left: 1px solid gray;box-sizing: border-box;top: 0;bottom: 0;left: 50%;z-index: 0;}#sk-container-id-10 div.sk-serial {display: flex;flex-direction: column;align-items: center;background-color: white;padding-right: 0.2em;padding-left: 0.2em;position: relative;}#sk-container-id-10 div.sk-item {position: relative;z-index: 1;}#sk-container-id-10 div.sk-parallel {display: flex;align-items: stretch;justify-content: center;background-color: white;position: relative;}#sk-container-id-10 div.sk-item::before, #sk-container-id-10 div.sk-parallel-item::before {content: \"\";position: absolute;border-left: 1px solid gray;box-sizing: border-box;top: 0;bottom: 0;left: 50%;z-index: -1;}#sk-container-id-10 div.sk-parallel-item {display: flex;flex-direction: column;z-index: 1;position: relative;background-color: white;}#sk-container-id-10 div.sk-parallel-item:first-child::after {align-self: flex-end;width: 50%;}#sk-container-id-10 div.sk-parallel-item:last-child::after {align-self: flex-start;width: 50%;}#sk-container-id-10 div.sk-parallel-item:only-child::after {width: 0;}#sk-container-id-10 div.sk-dashed-wrapped {border: 1px dashed gray;margin: 0 0.4em 0.5em 0.4em;box-sizing: border-box;padding-bottom: 0.4em;background-color: white;}#sk-container-id-10 div.sk-label label {font-family: monospace;font-weight: bold;display: inline-block;line-height: 1.2em;}#sk-container-id-10 div.sk-label-container {text-align: center;}#sk-container-id-10 div.sk-container {/* jupyter's `normalize.less` sets `[hidden] { display: none; }` but bootstrap.min.css set `[hidden] { display: none !important; }` so we also need the `!important` here to be able to override the default hidden behavior on the sphinx rendered scikit-learn.org. See: https://github.com/scikit-learn/scikit-learn/issues/21755 */display: inline-block !important;position: relative;}#sk-container-id-10 div.sk-text-repr-fallback {display: none;}</style><div id=\"sk-container-id-10\" class=\"sk-top-container\"><div class=\"sk-text-repr-fallback\"><pre>DecisionTreeClassifier(max_depth=5, max_features=0.5, random_state=17)</pre><b>In a Jupyter environment, please rerun this cell to show the HTML representation or trust the notebook. <br />On GitHub, the HTML representation is unable to render, please try loading this page with nbviewer.org.</b></div><div class=\"sk-container\" hidden><div class=\"sk-item\"><div class=\"sk-estimator sk-toggleable\"><input class=\"sk-toggleable__control sk-hidden--visually\" id=\"sk-estimator-id-14\" type=\"checkbox\" checked><label for=\"sk-estimator-id-14\" class=\"sk-toggleable__label sk-toggleable__label-arrow\">DecisionTreeClassifier</label><div class=\"sk-toggleable__content\"><pre>DecisionTreeClassifier(max_depth=5, max_features=0.5, random_state=17)</pre></div></div></div></div></div>"
      ],
      "text/plain": [
       "DecisionTreeClassifier(max_depth=5, max_features=0.5, random_state=17)"
      ]
     },
     "execution_count": 132,
     "metadata": {},
     "output_type": "execute_result"
    }
   ],
   "source": [
    "clf_1.fit(X_train, y_train)"
   ]
  },
  {
   "cell_type": "code",
   "execution_count": 133,
   "id": "5bfe90db",
   "metadata": {},
   "outputs": [],
   "source": [
    "tree_valid_pred_1 = clf_1.predict(X_valid)"
   ]
  },
  {
   "cell_type": "code",
   "execution_count": 134,
   "id": "1341eab9",
   "metadata": {},
   "outputs": [
    {
     "data": {
      "text/plain": [
       "0.4936649897521893"
      ]
     },
     "execution_count": 134,
     "metadata": {},
     "output_type": "execute_result"
    }
   ],
   "source": [
    "accuracy_score(y_valid,tree_valid_pred_1 )"
   ]
  },
  {
   "cell_type": "code",
   "execution_count": 135,
   "id": "83c9607e",
   "metadata": {},
   "outputs": [
    {
     "data": {
      "text/plain": [
       "array([[ 940, 4463],\n",
       "       [ 972, 4359]], dtype=int64)"
      ]
     },
     "execution_count": 135,
     "metadata": {},
     "output_type": "execute_result"
    }
   ],
   "source": [
    "confusion_matrix(y_valid, tree_valid_pred_1)"
   ]
  },
  {
   "cell_type": "code",
   "execution_count": 136,
   "id": "f097bf1f",
   "metadata": {},
   "outputs": [],
   "source": [
    "#fit model with LogistcRegression"
   ]
  },
  {
   "cell_type": "code",
   "execution_count": 109,
   "id": "69d2dacd",
   "metadata": {},
   "outputs": [
    {
     "name": "stderr",
     "output_type": "stream",
     "text": [
      "C:\\Users\\nazar\\anaconda3\\Lib\\site-packages\\sklearn\\model_selection\\_validation.py:425: FitFailedWarning: \n",
      "10 fits failed out of a total of 50.\n",
      "The score on these train-test partitions for these parameters will be set to nan.\n",
      "If these failures are not expected, you can try to debug them by setting error_score='raise'.\n",
      "\n",
      "Below are more details about the failures:\n",
      "--------------------------------------------------------------------------------\n",
      "10 fits failed with the following error:\n",
      "Traceback (most recent call last):\n",
      "  File \"C:\\Users\\nazar\\anaconda3\\Lib\\site-packages\\sklearn\\model_selection\\_validation.py\", line 732, in _fit_and_score\n",
      "    estimator.fit(X_train, y_train, **fit_params)\n",
      "  File \"C:\\Users\\nazar\\anaconda3\\Lib\\site-packages\\sklearn\\base.py\", line 1151, in wrapper\n",
      "    return fit_method(estimator, *args, **kwargs)\n",
      "           ^^^^^^^^^^^^^^^^^^^^^^^^^^^^^^^^^^^^^^\n",
      "  File \"C:\\Users\\nazar\\anaconda3\\Lib\\site-packages\\sklearn\\linear_model\\_logistic.py\", line 1168, in fit\n",
      "    solver = _check_solver(self.solver, self.penalty, self.dual)\n",
      "             ^^^^^^^^^^^^^^^^^^^^^^^^^^^^^^^^^^^^^^^^^^^^^^^^^^^\n",
      "  File \"C:\\Users\\nazar\\anaconda3\\Lib\\site-packages\\sklearn\\linear_model\\_logistic.py\", line 56, in _check_solver\n",
      "    raise ValueError(\n",
      "ValueError: Solver sag supports only 'l2' or 'none' penalties, got l1 penalty.\n",
      "\n",
      "  warnings.warn(some_fits_failed_message, FitFailedWarning)\n",
      "C:\\Users\\nazar\\anaconda3\\Lib\\site-packages\\sklearn\\model_selection\\_search.py:976: UserWarning: One or more of the test scores are non-finite: [0.50051807 0.50055802 0.50095735        nan 0.50059794]\n",
      "  warnings.warn(\n"
     ]
    },
    {
     "name": "stdout",
     "output_type": "stream",
     "text": [
      "Best Score: 0.5009573504747692\n",
      "Best Hyperparameters: {'solver': 'sag', 'penalty': 'l2', 'C': 1.0}\n"
     ]
    },
    {
     "name": "stderr",
     "output_type": "stream",
     "text": [
      "C:\\Users\\nazar\\anaconda3\\Lib\\site-packages\\sklearn\\linear_model\\_sag.py:350: ConvergenceWarning: The max_iter was reached which means the coef_ did not converge\n",
      "  warnings.warn(\n"
     ]
    }
   ],
   "source": [
    "# Define model\n",
    "\n",
    "\n",
    "scaler = StandardScaler()\n",
    "X_train_skaler = scaler.fit_transform(X_train)\n",
    "X_valid_skaler = scaler.transform(X_valid)\n",
    "\n",
    "\n",
    "model = LogisticRegression()\n",
    "\n",
    "\n",
    "# define search space\n",
    "param_grid = {\n",
    "    'C' : np.logspace(0, 4, num=10),\n",
    "    'penalty' : ['l1', 'l2'],\n",
    "    'solver' : ['liblinear', 'sag']\n",
    "}\n",
    "\n",
    "search = RandomizedSearchCV(model, param_grid, n_iter=5, cv=10, scoring='accuracy', n_jobs=-1, random_state=1)\n",
    "\n",
    "# execute search\n",
    "result = search.fit(X_train_skaler, y_train)\n",
    "# summarize result\n",
    "print('Best Score: %s' % result.best_score_)\n",
    "print('Best Hyperparameters: %s' % result.best_params_)"
   ]
  },
  {
   "cell_type": "code",
   "execution_count": null,
   "id": "8ef74422",
   "metadata": {},
   "outputs": [],
   "source": []
  },
  {
   "cell_type": "code",
   "execution_count": 70,
   "id": "b85361f9",
   "metadata": {},
   "outputs": [],
   "source": [
    "model_LR = LogisticRegression(n_jobs = -1,random_state = 17)"
   ]
  },
  {
   "cell_type": "code",
   "execution_count": 71,
   "id": "6979d8a4",
   "metadata": {},
   "outputs": [
    {
     "data": {
      "text/html": [
       "<style>#sk-container-id-9 {color: black;}#sk-container-id-9 pre{padding: 0;}#sk-container-id-9 div.sk-toggleable {background-color: white;}#sk-container-id-9 label.sk-toggleable__label {cursor: pointer;display: block;width: 100%;margin-bottom: 0;padding: 0.3em;box-sizing: border-box;text-align: center;}#sk-container-id-9 label.sk-toggleable__label-arrow:before {content: \"▸\";float: left;margin-right: 0.25em;color: #696969;}#sk-container-id-9 label.sk-toggleable__label-arrow:hover:before {color: black;}#sk-container-id-9 div.sk-estimator:hover label.sk-toggleable__label-arrow:before {color: black;}#sk-container-id-9 div.sk-toggleable__content {max-height: 0;max-width: 0;overflow: hidden;text-align: left;background-color: #f0f8ff;}#sk-container-id-9 div.sk-toggleable__content pre {margin: 0.2em;color: black;border-radius: 0.25em;background-color: #f0f8ff;}#sk-container-id-9 input.sk-toggleable__control:checked~div.sk-toggleable__content {max-height: 200px;max-width: 100%;overflow: auto;}#sk-container-id-9 input.sk-toggleable__control:checked~label.sk-toggleable__label-arrow:before {content: \"▾\";}#sk-container-id-9 div.sk-estimator input.sk-toggleable__control:checked~label.sk-toggleable__label {background-color: #d4ebff;}#sk-container-id-9 div.sk-label input.sk-toggleable__control:checked~label.sk-toggleable__label {background-color: #d4ebff;}#sk-container-id-9 input.sk-hidden--visually {border: 0;clip: rect(1px 1px 1px 1px);clip: rect(1px, 1px, 1px, 1px);height: 1px;margin: -1px;overflow: hidden;padding: 0;position: absolute;width: 1px;}#sk-container-id-9 div.sk-estimator {font-family: monospace;background-color: #f0f8ff;border: 1px dotted black;border-radius: 0.25em;box-sizing: border-box;margin-bottom: 0.5em;}#sk-container-id-9 div.sk-estimator:hover {background-color: #d4ebff;}#sk-container-id-9 div.sk-parallel-item::after {content: \"\";width: 100%;border-bottom: 1px solid gray;flex-grow: 1;}#sk-container-id-9 div.sk-label:hover label.sk-toggleable__label {background-color: #d4ebff;}#sk-container-id-9 div.sk-serial::before {content: \"\";position: absolute;border-left: 1px solid gray;box-sizing: border-box;top: 0;bottom: 0;left: 50%;z-index: 0;}#sk-container-id-9 div.sk-serial {display: flex;flex-direction: column;align-items: center;background-color: white;padding-right: 0.2em;padding-left: 0.2em;position: relative;}#sk-container-id-9 div.sk-item {position: relative;z-index: 1;}#sk-container-id-9 div.sk-parallel {display: flex;align-items: stretch;justify-content: center;background-color: white;position: relative;}#sk-container-id-9 div.sk-item::before, #sk-container-id-9 div.sk-parallel-item::before {content: \"\";position: absolute;border-left: 1px solid gray;box-sizing: border-box;top: 0;bottom: 0;left: 50%;z-index: -1;}#sk-container-id-9 div.sk-parallel-item {display: flex;flex-direction: column;z-index: 1;position: relative;background-color: white;}#sk-container-id-9 div.sk-parallel-item:first-child::after {align-self: flex-end;width: 50%;}#sk-container-id-9 div.sk-parallel-item:last-child::after {align-self: flex-start;width: 50%;}#sk-container-id-9 div.sk-parallel-item:only-child::after {width: 0;}#sk-container-id-9 div.sk-dashed-wrapped {border: 1px dashed gray;margin: 0 0.4em 0.5em 0.4em;box-sizing: border-box;padding-bottom: 0.4em;background-color: white;}#sk-container-id-9 div.sk-label label {font-family: monospace;font-weight: bold;display: inline-block;line-height: 1.2em;}#sk-container-id-9 div.sk-label-container {text-align: center;}#sk-container-id-9 div.sk-container {/* jupyter's `normalize.less` sets `[hidden] { display: none; }` but bootstrap.min.css set `[hidden] { display: none !important; }` so we also need the `!important` here to be able to override the default hidden behavior on the sphinx rendered scikit-learn.org. See: https://github.com/scikit-learn/scikit-learn/issues/21755 */display: inline-block !important;position: relative;}#sk-container-id-9 div.sk-text-repr-fallback {display: none;}</style><div id=\"sk-container-id-9\" class=\"sk-top-container\"><div class=\"sk-text-repr-fallback\"><pre>LogisticRegression(n_jobs=-1, random_state=17)</pre><b>In a Jupyter environment, please rerun this cell to show the HTML representation or trust the notebook. <br />On GitHub, the HTML representation is unable to render, please try loading this page with nbviewer.org.</b></div><div class=\"sk-container\" hidden><div class=\"sk-item\"><div class=\"sk-estimator sk-toggleable\"><input class=\"sk-toggleable__control sk-hidden--visually\" id=\"sk-estimator-id-11\" type=\"checkbox\" checked><label for=\"sk-estimator-id-11\" class=\"sk-toggleable__label sk-toggleable__label-arrow\">LogisticRegression</label><div class=\"sk-toggleable__content\"><pre>LogisticRegression(n_jobs=-1, random_state=17)</pre></div></div></div></div></div>"
      ],
      "text/plain": [
       "LogisticRegression(n_jobs=-1, random_state=17)"
      ]
     },
     "execution_count": 71,
     "metadata": {},
     "output_type": "execute_result"
    }
   ],
   "source": [
    "model_LR.fit(X_train, y_train)"
   ]
  },
  {
   "cell_type": "code",
   "execution_count": 72,
   "id": "6686acdf",
   "metadata": {},
   "outputs": [],
   "source": [
    "LR_pred = model_LR.predict(X_valid)"
   ]
  },
  {
   "cell_type": "code",
   "execution_count": 73,
   "id": "d22de8a6",
   "metadata": {},
   "outputs": [
    {
     "data": {
      "text/plain": [
       "0.4924538848518726"
      ]
     },
     "execution_count": 73,
     "metadata": {},
     "output_type": "execute_result"
    }
   ],
   "source": [
    "accuracy_score(y_valid,LR_pred )"
   ]
  },
  {
   "cell_type": "code",
   "execution_count": 74,
   "id": "2bf0b167",
   "metadata": {},
   "outputs": [
    {
     "data": {
      "text/plain": [
       "array([[1818, 3585],\n",
       "       [1863, 3468]], dtype=int64)"
      ]
     },
     "execution_count": 74,
     "metadata": {},
     "output_type": "execute_result"
    }
   ],
   "source": [
    "confusion_matrix(y_valid, LR_pred)"
   ]
  },
  {
   "cell_type": "code",
   "execution_count": 77,
   "id": "391c74c7",
   "metadata": {},
   "outputs": [],
   "source": [
    "C = 1e-2"
   ]
  },
  {
   "cell_type": "code",
   "execution_count": 78,
   "id": "ae34f2da",
   "metadata": {},
   "outputs": [],
   "source": [
    "logit = LogisticRegression(C=C,n_jobs=-1,random_state = 17)"
   ]
  },
  {
   "cell_type": "code",
   "execution_count": 79,
   "id": "d44fb291",
   "metadata": {},
   "outputs": [
    {
     "data": {
      "text/html": [
       "<style>#sk-container-id-10 {color: black;}#sk-container-id-10 pre{padding: 0;}#sk-container-id-10 div.sk-toggleable {background-color: white;}#sk-container-id-10 label.sk-toggleable__label {cursor: pointer;display: block;width: 100%;margin-bottom: 0;padding: 0.3em;box-sizing: border-box;text-align: center;}#sk-container-id-10 label.sk-toggleable__label-arrow:before {content: \"▸\";float: left;margin-right: 0.25em;color: #696969;}#sk-container-id-10 label.sk-toggleable__label-arrow:hover:before {color: black;}#sk-container-id-10 div.sk-estimator:hover label.sk-toggleable__label-arrow:before {color: black;}#sk-container-id-10 div.sk-toggleable__content {max-height: 0;max-width: 0;overflow: hidden;text-align: left;background-color: #f0f8ff;}#sk-container-id-10 div.sk-toggleable__content pre {margin: 0.2em;color: black;border-radius: 0.25em;background-color: #f0f8ff;}#sk-container-id-10 input.sk-toggleable__control:checked~div.sk-toggleable__content {max-height: 200px;max-width: 100%;overflow: auto;}#sk-container-id-10 input.sk-toggleable__control:checked~label.sk-toggleable__label-arrow:before {content: \"▾\";}#sk-container-id-10 div.sk-estimator input.sk-toggleable__control:checked~label.sk-toggleable__label {background-color: #d4ebff;}#sk-container-id-10 div.sk-label input.sk-toggleable__control:checked~label.sk-toggleable__label {background-color: #d4ebff;}#sk-container-id-10 input.sk-hidden--visually {border: 0;clip: rect(1px 1px 1px 1px);clip: rect(1px, 1px, 1px, 1px);height: 1px;margin: -1px;overflow: hidden;padding: 0;position: absolute;width: 1px;}#sk-container-id-10 div.sk-estimator {font-family: monospace;background-color: #f0f8ff;border: 1px dotted black;border-radius: 0.25em;box-sizing: border-box;margin-bottom: 0.5em;}#sk-container-id-10 div.sk-estimator:hover {background-color: #d4ebff;}#sk-container-id-10 div.sk-parallel-item::after {content: \"\";width: 100%;border-bottom: 1px solid gray;flex-grow: 1;}#sk-container-id-10 div.sk-label:hover label.sk-toggleable__label {background-color: #d4ebff;}#sk-container-id-10 div.sk-serial::before {content: \"\";position: absolute;border-left: 1px solid gray;box-sizing: border-box;top: 0;bottom: 0;left: 50%;z-index: 0;}#sk-container-id-10 div.sk-serial {display: flex;flex-direction: column;align-items: center;background-color: white;padding-right: 0.2em;padding-left: 0.2em;position: relative;}#sk-container-id-10 div.sk-item {position: relative;z-index: 1;}#sk-container-id-10 div.sk-parallel {display: flex;align-items: stretch;justify-content: center;background-color: white;position: relative;}#sk-container-id-10 div.sk-item::before, #sk-container-id-10 div.sk-parallel-item::before {content: \"\";position: absolute;border-left: 1px solid gray;box-sizing: border-box;top: 0;bottom: 0;left: 50%;z-index: -1;}#sk-container-id-10 div.sk-parallel-item {display: flex;flex-direction: column;z-index: 1;position: relative;background-color: white;}#sk-container-id-10 div.sk-parallel-item:first-child::after {align-self: flex-end;width: 50%;}#sk-container-id-10 div.sk-parallel-item:last-child::after {align-self: flex-start;width: 50%;}#sk-container-id-10 div.sk-parallel-item:only-child::after {width: 0;}#sk-container-id-10 div.sk-dashed-wrapped {border: 1px dashed gray;margin: 0 0.4em 0.5em 0.4em;box-sizing: border-box;padding-bottom: 0.4em;background-color: white;}#sk-container-id-10 div.sk-label label {font-family: monospace;font-weight: bold;display: inline-block;line-height: 1.2em;}#sk-container-id-10 div.sk-label-container {text-align: center;}#sk-container-id-10 div.sk-container {/* jupyter's `normalize.less` sets `[hidden] { display: none; }` but bootstrap.min.css set `[hidden] { display: none !important; }` so we also need the `!important` here to be able to override the default hidden behavior on the sphinx rendered scikit-learn.org. See: https://github.com/scikit-learn/scikit-learn/issues/21755 */display: inline-block !important;position: relative;}#sk-container-id-10 div.sk-text-repr-fallback {display: none;}</style><div id=\"sk-container-id-10\" class=\"sk-top-container\"><div class=\"sk-text-repr-fallback\"><pre>LogisticRegression(C=0.01, n_jobs=-1, random_state=17)</pre><b>In a Jupyter environment, please rerun this cell to show the HTML representation or trust the notebook. <br />On GitHub, the HTML representation is unable to render, please try loading this page with nbviewer.org.</b></div><div class=\"sk-container\" hidden><div class=\"sk-item\"><div class=\"sk-estimator sk-toggleable\"><input class=\"sk-toggleable__control sk-hidden--visually\" id=\"sk-estimator-id-12\" type=\"checkbox\" checked><label for=\"sk-estimator-id-12\" class=\"sk-toggleable__label sk-toggleable__label-arrow\">LogisticRegression</label><div class=\"sk-toggleable__content\"><pre>LogisticRegression(C=0.01, n_jobs=-1, random_state=17)</pre></div></div></div></div></div>"
      ],
      "text/plain": [
       "LogisticRegression(C=0.01, n_jobs=-1, random_state=17)"
      ]
     },
     "execution_count": 79,
     "metadata": {},
     "output_type": "execute_result"
    }
   ],
   "source": [
    "logit.fit(X_train,y_train)"
   ]
  },
  {
   "cell_type": "code",
   "execution_count": 80,
   "id": "b6c2ba6d",
   "metadata": {},
   "outputs": [],
   "source": [
    "logit_pred = model_LR.predict(X_valid)"
   ]
  },
  {
   "cell_type": "code",
   "execution_count": 81,
   "id": "57c8f042",
   "metadata": {},
   "outputs": [
    {
     "data": {
      "text/plain": [
       "0.4924538848518726"
      ]
     },
     "execution_count": 81,
     "metadata": {},
     "output_type": "execute_result"
    }
   ],
   "source": [
    "accuracy_score(y_valid,logit_pred )"
   ]
  },
  {
   "cell_type": "code",
   "execution_count": 82,
   "id": "930c486e",
   "metadata": {},
   "outputs": [
    {
     "data": {
      "text/plain": [
       "array([[1818, 3585],\n",
       "       [1863, 3468]], dtype=int64)"
      ]
     },
     "execution_count": 82,
     "metadata": {},
     "output_type": "execute_result"
    }
   ],
   "source": [
    "confusion_matrix(y_valid, logit_pred)"
   ]
  },
  {
   "cell_type": "code",
   "execution_count": 89,
   "id": "ff7c22a6",
   "metadata": {},
   "outputs": [],
   "source": [
    "#fit ensemble model"
   ]
  },
  {
   "cell_type": "code",
   "execution_count": 90,
   "id": "2d9a0fcd",
   "metadata": {},
   "outputs": [],
   "source": [
    "model = xgb.XGBClassifier(n_estimators = 100, max_depth = 3, learning_rate = 0.1)"
   ]
  },
  {
   "cell_type": "code",
   "execution_count": 91,
   "id": "98058e5a",
   "metadata": {},
   "outputs": [
    {
     "data": {
      "text/html": [
       "<style>#sk-container-id-12 {color: black;}#sk-container-id-12 pre{padding: 0;}#sk-container-id-12 div.sk-toggleable {background-color: white;}#sk-container-id-12 label.sk-toggleable__label {cursor: pointer;display: block;width: 100%;margin-bottom: 0;padding: 0.3em;box-sizing: border-box;text-align: center;}#sk-container-id-12 label.sk-toggleable__label-arrow:before {content: \"▸\";float: left;margin-right: 0.25em;color: #696969;}#sk-container-id-12 label.sk-toggleable__label-arrow:hover:before {color: black;}#sk-container-id-12 div.sk-estimator:hover label.sk-toggleable__label-arrow:before {color: black;}#sk-container-id-12 div.sk-toggleable__content {max-height: 0;max-width: 0;overflow: hidden;text-align: left;background-color: #f0f8ff;}#sk-container-id-12 div.sk-toggleable__content pre {margin: 0.2em;color: black;border-radius: 0.25em;background-color: #f0f8ff;}#sk-container-id-12 input.sk-toggleable__control:checked~div.sk-toggleable__content {max-height: 200px;max-width: 100%;overflow: auto;}#sk-container-id-12 input.sk-toggleable__control:checked~label.sk-toggleable__label-arrow:before {content: \"▾\";}#sk-container-id-12 div.sk-estimator input.sk-toggleable__control:checked~label.sk-toggleable__label {background-color: #d4ebff;}#sk-container-id-12 div.sk-label input.sk-toggleable__control:checked~label.sk-toggleable__label {background-color: #d4ebff;}#sk-container-id-12 input.sk-hidden--visually {border: 0;clip: rect(1px 1px 1px 1px);clip: rect(1px, 1px, 1px, 1px);height: 1px;margin: -1px;overflow: hidden;padding: 0;position: absolute;width: 1px;}#sk-container-id-12 div.sk-estimator {font-family: monospace;background-color: #f0f8ff;border: 1px dotted black;border-radius: 0.25em;box-sizing: border-box;margin-bottom: 0.5em;}#sk-container-id-12 div.sk-estimator:hover {background-color: #d4ebff;}#sk-container-id-12 div.sk-parallel-item::after {content: \"\";width: 100%;border-bottom: 1px solid gray;flex-grow: 1;}#sk-container-id-12 div.sk-label:hover label.sk-toggleable__label {background-color: #d4ebff;}#sk-container-id-12 div.sk-serial::before {content: \"\";position: absolute;border-left: 1px solid gray;box-sizing: border-box;top: 0;bottom: 0;left: 50%;z-index: 0;}#sk-container-id-12 div.sk-serial {display: flex;flex-direction: column;align-items: center;background-color: white;padding-right: 0.2em;padding-left: 0.2em;position: relative;}#sk-container-id-12 div.sk-item {position: relative;z-index: 1;}#sk-container-id-12 div.sk-parallel {display: flex;align-items: stretch;justify-content: center;background-color: white;position: relative;}#sk-container-id-12 div.sk-item::before, #sk-container-id-12 div.sk-parallel-item::before {content: \"\";position: absolute;border-left: 1px solid gray;box-sizing: border-box;top: 0;bottom: 0;left: 50%;z-index: -1;}#sk-container-id-12 div.sk-parallel-item {display: flex;flex-direction: column;z-index: 1;position: relative;background-color: white;}#sk-container-id-12 div.sk-parallel-item:first-child::after {align-self: flex-end;width: 50%;}#sk-container-id-12 div.sk-parallel-item:last-child::after {align-self: flex-start;width: 50%;}#sk-container-id-12 div.sk-parallel-item:only-child::after {width: 0;}#sk-container-id-12 div.sk-dashed-wrapped {border: 1px dashed gray;margin: 0 0.4em 0.5em 0.4em;box-sizing: border-box;padding-bottom: 0.4em;background-color: white;}#sk-container-id-12 div.sk-label label {font-family: monospace;font-weight: bold;display: inline-block;line-height: 1.2em;}#sk-container-id-12 div.sk-label-container {text-align: center;}#sk-container-id-12 div.sk-container {/* jupyter's `normalize.less` sets `[hidden] { display: none; }` but bootstrap.min.css set `[hidden] { display: none !important; }` so we also need the `!important` here to be able to override the default hidden behavior on the sphinx rendered scikit-learn.org. See: https://github.com/scikit-learn/scikit-learn/issues/21755 */display: inline-block !important;position: relative;}#sk-container-id-12 div.sk-text-repr-fallback {display: none;}</style><div id=\"sk-container-id-12\" class=\"sk-top-container\"><div class=\"sk-text-repr-fallback\"><pre>XGBClassifier(base_score=None, booster=None, callbacks=None,\n",
       "              colsample_bylevel=None, colsample_bynode=None,\n",
       "              colsample_bytree=None, device=None, early_stopping_rounds=None,\n",
       "              enable_categorical=False, eval_metric=None, feature_types=None,\n",
       "              gamma=None, grow_policy=None, importance_type=None,\n",
       "              interaction_constraints=None, learning_rate=0.1, max_bin=None,\n",
       "              max_cat_threshold=None, max_cat_to_onehot=None,\n",
       "              max_delta_step=None, max_depth=3, max_leaves=None,\n",
       "              min_child_weight=None, missing=nan, monotone_constraints=None,\n",
       "              multi_strategy=None, n_estimators=100, n_jobs=None,\n",
       "              num_parallel_tree=None, random_state=None, ...)</pre><b>In a Jupyter environment, please rerun this cell to show the HTML representation or trust the notebook. <br />On GitHub, the HTML representation is unable to render, please try loading this page with nbviewer.org.</b></div><div class=\"sk-container\" hidden><div class=\"sk-item\"><div class=\"sk-estimator sk-toggleable\"><input class=\"sk-toggleable__control sk-hidden--visually\" id=\"sk-estimator-id-14\" type=\"checkbox\" checked><label for=\"sk-estimator-id-14\" class=\"sk-toggleable__label sk-toggleable__label-arrow\">XGBClassifier</label><div class=\"sk-toggleable__content\"><pre>XGBClassifier(base_score=None, booster=None, callbacks=None,\n",
       "              colsample_bylevel=None, colsample_bynode=None,\n",
       "              colsample_bytree=None, device=None, early_stopping_rounds=None,\n",
       "              enable_categorical=False, eval_metric=None, feature_types=None,\n",
       "              gamma=None, grow_policy=None, importance_type=None,\n",
       "              interaction_constraints=None, learning_rate=0.1, max_bin=None,\n",
       "              max_cat_threshold=None, max_cat_to_onehot=None,\n",
       "              max_delta_step=None, max_depth=3, max_leaves=None,\n",
       "              min_child_weight=None, missing=nan, monotone_constraints=None,\n",
       "              multi_strategy=None, n_estimators=100, n_jobs=None,\n",
       "              num_parallel_tree=None, random_state=None, ...)</pre></div></div></div></div></div>"
      ],
      "text/plain": [
       "XGBClassifier(base_score=None, booster=None, callbacks=None,\n",
       "              colsample_bylevel=None, colsample_bynode=None,\n",
       "              colsample_bytree=None, device=None, early_stopping_rounds=None,\n",
       "              enable_categorical=False, eval_metric=None, feature_types=None,\n",
       "              gamma=None, grow_policy=None, importance_type=None,\n",
       "              interaction_constraints=None, learning_rate=0.1, max_bin=None,\n",
       "              max_cat_threshold=None, max_cat_to_onehot=None,\n",
       "              max_delta_step=None, max_depth=3, max_leaves=None,\n",
       "              min_child_weight=None, missing=nan, monotone_constraints=None,\n",
       "              multi_strategy=None, n_estimators=100, n_jobs=None,\n",
       "              num_parallel_tree=None, random_state=None, ...)"
      ]
     },
     "execution_count": 91,
     "metadata": {},
     "output_type": "execute_result"
    }
   ],
   "source": [
    "model.fit(X_train,y_train)"
   ]
  },
  {
   "cell_type": "code",
   "execution_count": 92,
   "id": "72f09f1e",
   "metadata": {},
   "outputs": [],
   "source": [
    "y_pred_xgb = model.predict(X_valid)"
   ]
  },
  {
   "cell_type": "code",
   "execution_count": 93,
   "id": "ef325c41",
   "metadata": {},
   "outputs": [
    {
     "data": {
      "text/plain": [
       "0.49878889509968327"
      ]
     },
     "execution_count": 93,
     "metadata": {},
     "output_type": "execute_result"
    }
   ],
   "source": [
    "accuracy_score(y_valid,y_pred_xgb )"
   ]
  },
  {
   "cell_type": "code",
   "execution_count": 94,
   "id": "0b924785",
   "metadata": {},
   "outputs": [
    {
     "data": {
      "text/plain": [
       "array([[2384, 3019],\n",
       "       [2361, 2970]], dtype=int64)"
      ]
     },
     "execution_count": 94,
     "metadata": {},
     "output_type": "execute_result"
    }
   ],
   "source": [
    "confusion_matrix(y_valid, y_pred_xgb)"
   ]
  },
  {
   "cell_type": "code",
   "execution_count": null,
   "id": "23ef7cb7",
   "metadata": {},
   "outputs": [],
   "source": []
  },
  {
   "cell_type": "code",
   "execution_count": null,
   "id": "7960394a",
   "metadata": {},
   "outputs": [],
   "source": []
  },
  {
   "cell_type": "code",
   "execution_count": 95,
   "id": "0df88833",
   "metadata": {},
   "outputs": [],
   "source": [
    "#fit with Random Forest"
   ]
  },
  {
   "cell_type": "code",
   "execution_count": 96,
   "id": "07d699d7",
   "metadata": {},
   "outputs": [],
   "source": [
    "rf_model = RandomForestClassifier(n_estimators = 100)"
   ]
  },
  {
   "cell_type": "code",
   "execution_count": 97,
   "id": "0cbd1fd5",
   "metadata": {},
   "outputs": [
    {
     "data": {
      "text/html": [
       "<style>#sk-container-id-13 {color: black;}#sk-container-id-13 pre{padding: 0;}#sk-container-id-13 div.sk-toggleable {background-color: white;}#sk-container-id-13 label.sk-toggleable__label {cursor: pointer;display: block;width: 100%;margin-bottom: 0;padding: 0.3em;box-sizing: border-box;text-align: center;}#sk-container-id-13 label.sk-toggleable__label-arrow:before {content: \"▸\";float: left;margin-right: 0.25em;color: #696969;}#sk-container-id-13 label.sk-toggleable__label-arrow:hover:before {color: black;}#sk-container-id-13 div.sk-estimator:hover label.sk-toggleable__label-arrow:before {color: black;}#sk-container-id-13 div.sk-toggleable__content {max-height: 0;max-width: 0;overflow: hidden;text-align: left;background-color: #f0f8ff;}#sk-container-id-13 div.sk-toggleable__content pre {margin: 0.2em;color: black;border-radius: 0.25em;background-color: #f0f8ff;}#sk-container-id-13 input.sk-toggleable__control:checked~div.sk-toggleable__content {max-height: 200px;max-width: 100%;overflow: auto;}#sk-container-id-13 input.sk-toggleable__control:checked~label.sk-toggleable__label-arrow:before {content: \"▾\";}#sk-container-id-13 div.sk-estimator input.sk-toggleable__control:checked~label.sk-toggleable__label {background-color: #d4ebff;}#sk-container-id-13 div.sk-label input.sk-toggleable__control:checked~label.sk-toggleable__label {background-color: #d4ebff;}#sk-container-id-13 input.sk-hidden--visually {border: 0;clip: rect(1px 1px 1px 1px);clip: rect(1px, 1px, 1px, 1px);height: 1px;margin: -1px;overflow: hidden;padding: 0;position: absolute;width: 1px;}#sk-container-id-13 div.sk-estimator {font-family: monospace;background-color: #f0f8ff;border: 1px dotted black;border-radius: 0.25em;box-sizing: border-box;margin-bottom: 0.5em;}#sk-container-id-13 div.sk-estimator:hover {background-color: #d4ebff;}#sk-container-id-13 div.sk-parallel-item::after {content: \"\";width: 100%;border-bottom: 1px solid gray;flex-grow: 1;}#sk-container-id-13 div.sk-label:hover label.sk-toggleable__label {background-color: #d4ebff;}#sk-container-id-13 div.sk-serial::before {content: \"\";position: absolute;border-left: 1px solid gray;box-sizing: border-box;top: 0;bottom: 0;left: 50%;z-index: 0;}#sk-container-id-13 div.sk-serial {display: flex;flex-direction: column;align-items: center;background-color: white;padding-right: 0.2em;padding-left: 0.2em;position: relative;}#sk-container-id-13 div.sk-item {position: relative;z-index: 1;}#sk-container-id-13 div.sk-parallel {display: flex;align-items: stretch;justify-content: center;background-color: white;position: relative;}#sk-container-id-13 div.sk-item::before, #sk-container-id-13 div.sk-parallel-item::before {content: \"\";position: absolute;border-left: 1px solid gray;box-sizing: border-box;top: 0;bottom: 0;left: 50%;z-index: -1;}#sk-container-id-13 div.sk-parallel-item {display: flex;flex-direction: column;z-index: 1;position: relative;background-color: white;}#sk-container-id-13 div.sk-parallel-item:first-child::after {align-self: flex-end;width: 50%;}#sk-container-id-13 div.sk-parallel-item:last-child::after {align-self: flex-start;width: 50%;}#sk-container-id-13 div.sk-parallel-item:only-child::after {width: 0;}#sk-container-id-13 div.sk-dashed-wrapped {border: 1px dashed gray;margin: 0 0.4em 0.5em 0.4em;box-sizing: border-box;padding-bottom: 0.4em;background-color: white;}#sk-container-id-13 div.sk-label label {font-family: monospace;font-weight: bold;display: inline-block;line-height: 1.2em;}#sk-container-id-13 div.sk-label-container {text-align: center;}#sk-container-id-13 div.sk-container {/* jupyter's `normalize.less` sets `[hidden] { display: none; }` but bootstrap.min.css set `[hidden] { display: none !important; }` so we also need the `!important` here to be able to override the default hidden behavior on the sphinx rendered scikit-learn.org. See: https://github.com/scikit-learn/scikit-learn/issues/21755 */display: inline-block !important;position: relative;}#sk-container-id-13 div.sk-text-repr-fallback {display: none;}</style><div id=\"sk-container-id-13\" class=\"sk-top-container\"><div class=\"sk-text-repr-fallback\"><pre>RandomForestClassifier()</pre><b>In a Jupyter environment, please rerun this cell to show the HTML representation or trust the notebook. <br />On GitHub, the HTML representation is unable to render, please try loading this page with nbviewer.org.</b></div><div class=\"sk-container\" hidden><div class=\"sk-item\"><div class=\"sk-estimator sk-toggleable\"><input class=\"sk-toggleable__control sk-hidden--visually\" id=\"sk-estimator-id-15\" type=\"checkbox\" checked><label for=\"sk-estimator-id-15\" class=\"sk-toggleable__label sk-toggleable__label-arrow\">RandomForestClassifier</label><div class=\"sk-toggleable__content\"><pre>RandomForestClassifier()</pre></div></div></div></div></div>"
      ],
      "text/plain": [
       "RandomForestClassifier()"
      ]
     },
     "execution_count": 97,
     "metadata": {},
     "output_type": "execute_result"
    }
   ],
   "source": [
    "rf_model.fit(X_train, y_train)"
   ]
  },
  {
   "cell_type": "code",
   "execution_count": 98,
   "id": "4117cad0",
   "metadata": {},
   "outputs": [],
   "source": [
    "y_pred_rf = rf_model.predict(X_valid)"
   ]
  },
  {
   "cell_type": "code",
   "execution_count": 99,
   "id": "667f2fbe",
   "metadata": {},
   "outputs": [
    {
     "data": {
      "text/plain": [
       "0.4990683808459102"
      ]
     },
     "execution_count": 99,
     "metadata": {},
     "output_type": "execute_result"
    }
   ],
   "source": [
    "accuracy_score(y_valid,y_pred_rf )"
   ]
  },
  {
   "cell_type": "code",
   "execution_count": 100,
   "id": "cf00aa7d",
   "metadata": {},
   "outputs": [
    {
     "data": {
      "text/plain": [
       "array([[2760, 2643],\n",
       "       [2734, 2597]], dtype=int64)"
      ]
     },
     "execution_count": 100,
     "metadata": {},
     "output_type": "execute_result"
    }
   ],
   "source": [
    "confusion_matrix(y_valid, y_pred_rf)"
   ]
  },
  {
   "cell_type": "code",
   "execution_count": 101,
   "id": "25c13c88",
   "metadata": {},
   "outputs": [],
   "source": [
    "#fit with SVC"
   ]
  },
  {
   "cell_type": "code",
   "execution_count": 102,
   "id": "32fef0d8",
   "metadata": {},
   "outputs": [],
   "source": [
    "svm_model = SVC(kernel = 'linear')"
   ]
  },
  {
   "cell_type": "code",
   "execution_count": 103,
   "id": "347cda68",
   "metadata": {},
   "outputs": [
    {
     "data": {
      "text/html": [
       "<style>#sk-container-id-14 {color: black;}#sk-container-id-14 pre{padding: 0;}#sk-container-id-14 div.sk-toggleable {background-color: white;}#sk-container-id-14 label.sk-toggleable__label {cursor: pointer;display: block;width: 100%;margin-bottom: 0;padding: 0.3em;box-sizing: border-box;text-align: center;}#sk-container-id-14 label.sk-toggleable__label-arrow:before {content: \"▸\";float: left;margin-right: 0.25em;color: #696969;}#sk-container-id-14 label.sk-toggleable__label-arrow:hover:before {color: black;}#sk-container-id-14 div.sk-estimator:hover label.sk-toggleable__label-arrow:before {color: black;}#sk-container-id-14 div.sk-toggleable__content {max-height: 0;max-width: 0;overflow: hidden;text-align: left;background-color: #f0f8ff;}#sk-container-id-14 div.sk-toggleable__content pre {margin: 0.2em;color: black;border-radius: 0.25em;background-color: #f0f8ff;}#sk-container-id-14 input.sk-toggleable__control:checked~div.sk-toggleable__content {max-height: 200px;max-width: 100%;overflow: auto;}#sk-container-id-14 input.sk-toggleable__control:checked~label.sk-toggleable__label-arrow:before {content: \"▾\";}#sk-container-id-14 div.sk-estimator input.sk-toggleable__control:checked~label.sk-toggleable__label {background-color: #d4ebff;}#sk-container-id-14 div.sk-label input.sk-toggleable__control:checked~label.sk-toggleable__label {background-color: #d4ebff;}#sk-container-id-14 input.sk-hidden--visually {border: 0;clip: rect(1px 1px 1px 1px);clip: rect(1px, 1px, 1px, 1px);height: 1px;margin: -1px;overflow: hidden;padding: 0;position: absolute;width: 1px;}#sk-container-id-14 div.sk-estimator {font-family: monospace;background-color: #f0f8ff;border: 1px dotted black;border-radius: 0.25em;box-sizing: border-box;margin-bottom: 0.5em;}#sk-container-id-14 div.sk-estimator:hover {background-color: #d4ebff;}#sk-container-id-14 div.sk-parallel-item::after {content: \"\";width: 100%;border-bottom: 1px solid gray;flex-grow: 1;}#sk-container-id-14 div.sk-label:hover label.sk-toggleable__label {background-color: #d4ebff;}#sk-container-id-14 div.sk-serial::before {content: \"\";position: absolute;border-left: 1px solid gray;box-sizing: border-box;top: 0;bottom: 0;left: 50%;z-index: 0;}#sk-container-id-14 div.sk-serial {display: flex;flex-direction: column;align-items: center;background-color: white;padding-right: 0.2em;padding-left: 0.2em;position: relative;}#sk-container-id-14 div.sk-item {position: relative;z-index: 1;}#sk-container-id-14 div.sk-parallel {display: flex;align-items: stretch;justify-content: center;background-color: white;position: relative;}#sk-container-id-14 div.sk-item::before, #sk-container-id-14 div.sk-parallel-item::before {content: \"\";position: absolute;border-left: 1px solid gray;box-sizing: border-box;top: 0;bottom: 0;left: 50%;z-index: -1;}#sk-container-id-14 div.sk-parallel-item {display: flex;flex-direction: column;z-index: 1;position: relative;background-color: white;}#sk-container-id-14 div.sk-parallel-item:first-child::after {align-self: flex-end;width: 50%;}#sk-container-id-14 div.sk-parallel-item:last-child::after {align-self: flex-start;width: 50%;}#sk-container-id-14 div.sk-parallel-item:only-child::after {width: 0;}#sk-container-id-14 div.sk-dashed-wrapped {border: 1px dashed gray;margin: 0 0.4em 0.5em 0.4em;box-sizing: border-box;padding-bottom: 0.4em;background-color: white;}#sk-container-id-14 div.sk-label label {font-family: monospace;font-weight: bold;display: inline-block;line-height: 1.2em;}#sk-container-id-14 div.sk-label-container {text-align: center;}#sk-container-id-14 div.sk-container {/* jupyter's `normalize.less` sets `[hidden] { display: none; }` but bootstrap.min.css set `[hidden] { display: none !important; }` so we also need the `!important` here to be able to override the default hidden behavior on the sphinx rendered scikit-learn.org. See: https://github.com/scikit-learn/scikit-learn/issues/21755 */display: inline-block !important;position: relative;}#sk-container-id-14 div.sk-text-repr-fallback {display: none;}</style><div id=\"sk-container-id-14\" class=\"sk-top-container\"><div class=\"sk-text-repr-fallback\"><pre>SVC(kernel=&#x27;linear&#x27;)</pre><b>In a Jupyter environment, please rerun this cell to show the HTML representation or trust the notebook. <br />On GitHub, the HTML representation is unable to render, please try loading this page with nbviewer.org.</b></div><div class=\"sk-container\" hidden><div class=\"sk-item\"><div class=\"sk-estimator sk-toggleable\"><input class=\"sk-toggleable__control sk-hidden--visually\" id=\"sk-estimator-id-16\" type=\"checkbox\" checked><label for=\"sk-estimator-id-16\" class=\"sk-toggleable__label sk-toggleable__label-arrow\">SVC</label><div class=\"sk-toggleable__content\"><pre>SVC(kernel=&#x27;linear&#x27;)</pre></div></div></div></div></div>"
      ],
      "text/plain": [
       "SVC(kernel='linear')"
      ]
     },
     "execution_count": 103,
     "metadata": {},
     "output_type": "execute_result"
    }
   ],
   "source": [
    "svm_model.fit(X_train, y_train)"
   ]
  },
  {
   "cell_type": "code",
   "execution_count": 110,
   "id": "b2f0b680",
   "metadata": {},
   "outputs": [],
   "source": [
    "y_pred_svm = svm_model.predict(X_valid) "
   ]
  },
  {
   "cell_type": "code",
   "execution_count": 111,
   "id": "c37beefe",
   "metadata": {},
   "outputs": [
    {
     "data": {
      "text/plain": [
       "0.4920812371902366"
      ]
     },
     "execution_count": 111,
     "metadata": {},
     "output_type": "execute_result"
    }
   ],
   "source": [
    "accuracy_score(y_valid,y_pred_svm )"
   ]
  },
  {
   "cell_type": "code",
   "execution_count": 112,
   "id": "75f397b2",
   "metadata": {},
   "outputs": [
    {
     "data": {
      "text/plain": [
       "array([[3150, 2253],\n",
       "       [3199, 2132]], dtype=int64)"
      ]
     },
     "execution_count": 112,
     "metadata": {},
     "output_type": "execute_result"
    }
   ],
   "source": [
    "confusion_matrix(y_valid, y_pred_svm)"
   ]
  },
  {
   "cell_type": "code",
   "execution_count": 64,
   "id": "0b5d9273",
   "metadata": {},
   "outputs": [],
   "source": [
    "##using catboost"
   ]
  },
  {
   "cell_type": "code",
   "execution_count": 65,
   "id": "f276a66e",
   "metadata": {},
   "outputs": [
    {
     "name": "stdout",
     "output_type": "stream",
     "text": [
      "Collecting catboost\n",
      "  Obtaining dependency information for catboost from https://files.pythonhosted.org/packages/e2/63/379617e3d982e8a66c9d66ebf4621d3357c7c18ad356473c335bffd5aba6/catboost-1.2.2-cp311-cp311-win_amd64.whl.metadata\n",
      "  Downloading catboost-1.2.2-cp311-cp311-win_amd64.whl.metadata (1.2 kB)\n",
      "Collecting graphviz (from catboost)\n",
      "  Downloading graphviz-0.20.1-py3-none-any.whl (47 kB)\n",
      "     ---------------------------------------- 0.0/47.0 kB ? eta -:--:--\n",
      "     --------------------------------- ---- 41.0/47.0 kB 991.0 kB/s eta 0:00:01\n",
      "     -------------------------------------- 47.0/47.0 kB 593.5 kB/s eta 0:00:00\n",
      "Requirement already satisfied: matplotlib in c:\\users\\nazar\\anaconda3\\lib\\site-packages (from catboost) (3.7.1)\n",
      "Requirement already satisfied: numpy>=1.16.0 in c:\\users\\nazar\\anaconda3\\lib\\site-packages (from catboost) (1.24.3)\n",
      "Requirement already satisfied: pandas>=0.24 in c:\\users\\nazar\\anaconda3\\lib\\site-packages (from catboost) (1.5.3)\n",
      "Requirement already satisfied: scipy in c:\\users\\nazar\\anaconda3\\lib\\site-packages (from catboost) (1.10.1)\n",
      "Requirement already satisfied: plotly in c:\\users\\nazar\\anaconda3\\lib\\site-packages (from catboost) (5.9.0)\n",
      "Requirement already satisfied: six in c:\\users\\nazar\\anaconda3\\lib\\site-packages (from catboost) (1.16.0)\n",
      "Requirement already satisfied: python-dateutil>=2.8.1 in c:\\users\\nazar\\anaconda3\\lib\\site-packages (from pandas>=0.24->catboost) (2.8.2)\n",
      "Requirement already satisfied: pytz>=2020.1 in c:\\users\\nazar\\anaconda3\\lib\\site-packages (from pandas>=0.24->catboost) (2022.7)\n",
      "Requirement already satisfied: contourpy>=1.0.1 in c:\\users\\nazar\\anaconda3\\lib\\site-packages (from matplotlib->catboost) (1.0.5)\n",
      "Requirement already satisfied: cycler>=0.10 in c:\\users\\nazar\\anaconda3\\lib\\site-packages (from matplotlib->catboost) (0.11.0)\n",
      "Requirement already satisfied: fonttools>=4.22.0 in c:\\users\\nazar\\anaconda3\\lib\\site-packages (from matplotlib->catboost) (4.25.0)\n",
      "Requirement already satisfied: kiwisolver>=1.0.1 in c:\\users\\nazar\\anaconda3\\lib\\site-packages (from matplotlib->catboost) (1.4.4)\n",
      "Requirement already satisfied: packaging>=20.0 in c:\\users\\nazar\\anaconda3\\lib\\site-packages (from matplotlib->catboost) (23.0)\n",
      "Requirement already satisfied: pillow>=6.2.0 in c:\\users\\nazar\\anaconda3\\lib\\site-packages (from matplotlib->catboost) (9.4.0)\n",
      "Requirement already satisfied: pyparsing>=2.3.1 in c:\\users\\nazar\\anaconda3\\lib\\site-packages (from matplotlib->catboost) (3.0.9)\n",
      "Requirement already satisfied: tenacity>=6.2.0 in c:\\users\\nazar\\anaconda3\\lib\\site-packages (from plotly->catboost) (8.2.2)\n",
      "Downloading catboost-1.2.2-cp311-cp311-win_amd64.whl (101.0 MB)\n",
      "   ---------------------------------------- 0.0/101.0 MB ? eta -:--:--\n",
      "   ---------------------------------------- 0.1/101.0 MB 2.6 MB/s eta 0:00:39\n",
      "   ---------------------------------------- 0.2/101.0 MB 2.0 MB/s eta 0:00:52\n",
      "   ---------------------------------------- 0.3/101.0 MB 2.5 MB/s eta 0:00:40\n",
      "   ---------------------------------------- 0.4/101.0 MB 2.5 MB/s eta 0:00:41\n",
      "   ---------------------------------------- 0.6/101.0 MB 2.9 MB/s eta 0:00:35\n",
      "   ---------------------------------------- 0.7/101.0 MB 2.6 MB/s eta 0:00:39\n",
      "   ---------------------------------------- 0.8/101.0 MB 2.5 MB/s eta 0:00:41\n",
      "   ---------------------------------------- 1.0/101.0 MB 2.8 MB/s eta 0:00:37\n",
      "   ---------------------------------------- 1.1/101.0 MB 2.8 MB/s eta 0:00:36\n",
      "    --------------------------------------- 1.4/101.0 MB 3.0 MB/s eta 0:00:34\n",
      "    --------------------------------------- 1.6/101.0 MB 3.4 MB/s eta 0:00:30\n",
      "    --------------------------------------- 1.8/101.0 MB 3.2 MB/s eta 0:00:31\n",
      "    --------------------------------------- 2.0/101.0 MB 3.4 MB/s eta 0:00:29\n",
      "    --------------------------------------- 2.1/101.0 MB 3.4 MB/s eta 0:00:29\n",
      "    --------------------------------------- 2.1/101.0 MB 3.4 MB/s eta 0:00:29\n",
      "    --------------------------------------- 2.2/101.0 MB 3.0 MB/s eta 0:00:34\n",
      "    --------------------------------------- 2.4/101.0 MB 3.2 MB/s eta 0:00:32\n",
      "    --------------------------------------- 2.4/101.0 MB 3.1 MB/s eta 0:00:32\n",
      "   - -------------------------------------- 2.6/101.0 MB 3.0 MB/s eta 0:00:33\n",
      "   - -------------------------------------- 2.8/101.0 MB 3.0 MB/s eta 0:00:33\n",
      "   - -------------------------------------- 2.9/101.0 MB 3.0 MB/s eta 0:00:33\n",
      "   - -------------------------------------- 3.1/101.0 MB 3.0 MB/s eta 0:00:33\n",
      "   - -------------------------------------- 3.2/101.0 MB 3.1 MB/s eta 0:00:32\n",
      "   - -------------------------------------- 3.4/101.0 MB 3.1 MB/s eta 0:00:32\n",
      "   - -------------------------------------- 3.6/101.0 MB 3.1 MB/s eta 0:00:32\n",
      "   - -------------------------------------- 3.6/101.0 MB 3.1 MB/s eta 0:00:32\n",
      "   - -------------------------------------- 3.7/101.0 MB 3.1 MB/s eta 0:00:32\n",
      "   - -------------------------------------- 3.8/101.0 MB 3.0 MB/s eta 0:00:33\n",
      "   - -------------------------------------- 4.0/101.0 MB 3.0 MB/s eta 0:00:33\n",
      "   - -------------------------------------- 4.0/101.0 MB 3.0 MB/s eta 0:00:33\n",
      "   - -------------------------------------- 4.2/101.0 MB 2.9 MB/s eta 0:00:34\n",
      "   - -------------------------------------- 4.3/101.0 MB 2.9 MB/s eta 0:00:33\n",
      "   - -------------------------------------- 4.4/101.0 MB 2.9 MB/s eta 0:00:34\n",
      "   - -------------------------------------- 4.5/101.0 MB 2.9 MB/s eta 0:00:34\n",
      "   - -------------------------------------- 4.6/101.0 MB 2.8 MB/s eta 0:00:35\n",
      "   - -------------------------------------- 4.8/101.0 MB 2.9 MB/s eta 0:00:34\n",
      "   - -------------------------------------- 4.8/101.0 MB 2.8 MB/s eta 0:00:34\n",
      "   -- ------------------------------------- 5.1/101.0 MB 2.9 MB/s eta 0:00:34\n",
      "   -- ------------------------------------- 5.3/101.0 MB 2.9 MB/s eta 0:00:33\n",
      "   -- ------------------------------------- 5.4/101.0 MB 3.0 MB/s eta 0:00:33\n",
      "   -- ------------------------------------- 5.4/101.0 MB 3.0 MB/s eta 0:00:33\n",
      "   -- ------------------------------------- 5.4/101.0 MB 3.0 MB/s eta 0:00:33\n",
      "   -- ------------------------------------- 5.8/101.0 MB 2.9 MB/s eta 0:00:33\n",
      "   -- ------------------------------------- 6.1/101.0 MB 3.0 MB/s eta 0:00:32\n",
      "   -- ------------------------------------- 6.3/101.0 MB 3.0 MB/s eta 0:00:32\n",
      "   -- ------------------------------------- 6.4/101.0 MB 3.0 MB/s eta 0:00:32\n",
      "   -- ------------------------------------- 6.5/101.0 MB 3.0 MB/s eta 0:00:32\n",
      "   -- ------------------------------------- 6.5/101.0 MB 3.0 MB/s eta 0:00:32\n",
      "   -- ------------------------------------- 6.5/101.0 MB 3.0 MB/s eta 0:00:32\n",
      "   -- ------------------------------------- 6.5/101.0 MB 3.0 MB/s eta 0:00:32\n",
      "   -- ------------------------------------- 6.5/101.0 MB 3.0 MB/s eta 0:00:32\n",
      "   -- ------------------------------------- 6.5/101.0 MB 3.0 MB/s eta 0:00:32\n",
      "   -- ------------------------------------- 6.5/101.0 MB 3.0 MB/s eta 0:00:32\n",
      "   -- ------------------------------------- 6.5/101.0 MB 3.0 MB/s eta 0:00:32\n",
      "   -- ------------------------------------- 6.6/101.0 MB 2.6 MB/s eta 0:00:37\n",
      "   -- ------------------------------------- 6.9/101.0 MB 2.6 MB/s eta 0:00:36\n",
      "   -- ------------------------------------- 7.0/101.0 MB 2.7 MB/s eta 0:00:36\n",
      "   -- ------------------------------------- 7.1/101.0 MB 2.7 MB/s eta 0:00:36\n",
      "   -- ------------------------------------- 7.1/101.0 MB 2.6 MB/s eta 0:00:36\n",
      "   -- ------------------------------------- 7.1/101.0 MB 2.6 MB/s eta 0:00:37\n",
      "   -- ------------------------------------- 7.5/101.0 MB 2.7 MB/s eta 0:00:35\n",
      "   --- ------------------------------------ 7.7/101.0 MB 2.7 MB/s eta 0:00:35\n",
      "   --- ------------------------------------ 7.9/101.0 MB 2.7 MB/s eta 0:00:35\n",
      "   --- ------------------------------------ 8.1/101.0 MB 2.7 MB/s eta 0:00:34\n",
      "   --- ------------------------------------ 8.3/101.0 MB 2.7 MB/s eta 0:00:34\n",
      "   --- ------------------------------------ 8.4/101.0 MB 2.7 MB/s eta 0:00:34\n",
      "   --- ------------------------------------ 8.5/101.0 MB 2.7 MB/s eta 0:00:34\n",
      "   --- ------------------------------------ 8.7/101.0 MB 2.7 MB/s eta 0:00:34\n",
      "   --- ------------------------------------ 8.8/101.0 MB 2.7 MB/s eta 0:00:34\n",
      "   --- ------------------------------------ 8.8/101.0 MB 2.7 MB/s eta 0:00:34\n",
      "   --- ------------------------------------ 8.9/101.0 MB 2.7 MB/s eta 0:00:34\n",
      "   --- ------------------------------------ 9.0/101.0 MB 2.7 MB/s eta 0:00:34\n",
      "   --- ------------------------------------ 9.2/101.0 MB 2.7 MB/s eta 0:00:34\n",
      "   --- ------------------------------------ 9.3/101.0 MB 2.7 MB/s eta 0:00:34\n",
      "   --- ------------------------------------ 9.5/101.0 MB 2.7 MB/s eta 0:00:34\n",
      "   --- ------------------------------------ 9.7/101.0 MB 2.8 MB/s eta 0:00:33\n",
      "   --- ------------------------------------ 9.9/101.0 MB 2.8 MB/s eta 0:00:33\n",
      "   --- ------------------------------------ 10.1/101.0 MB 2.8 MB/s eta 0:00:33\n",
      "   ---- ----------------------------------- 10.3/101.0 MB 2.8 MB/s eta 0:00:33\n",
      "   ---- ----------------------------------- 10.3/101.0 MB 2.8 MB/s eta 0:00:33\n",
      "   ---- ----------------------------------- 10.3/101.0 MB 2.8 MB/s eta 0:00:33\n",
      "   ---- ----------------------------------- 10.3/101.0 MB 2.7 MB/s eta 0:00:34\n",
      "   ---- ----------------------------------- 10.9/101.0 MB 2.9 MB/s eta 0:00:32\n",
      "   ---- ----------------------------------- 11.1/101.0 MB 2.9 MB/s eta 0:00:32\n",
      "   ---- ----------------------------------- 11.2/101.0 MB 2.9 MB/s eta 0:00:32\n",
      "   ---- ----------------------------------- 11.3/101.0 MB 2.8 MB/s eta 0:00:32\n",
      "   ---- ----------------------------------- 11.5/101.0 MB 2.9 MB/s eta 0:00:32\n",
      "   ---- ----------------------------------- 11.6/101.0 MB 2.8 MB/s eta 0:00:32\n",
      "   ---- ----------------------------------- 11.8/101.0 MB 2.8 MB/s eta 0:00:32\n",
      "   ---- ----------------------------------- 11.9/101.0 MB 2.8 MB/s eta 0:00:32\n",
      "   ---- ----------------------------------- 12.0/101.0 MB 2.8 MB/s eta 0:00:32\n",
      "   ---- ----------------------------------- 12.2/101.0 MB 2.8 MB/s eta 0:00:33\n",
      "   ---- ----------------------------------- 12.4/101.0 MB 2.8 MB/s eta 0:00:32\n",
      "   ---- ----------------------------------- 12.5/101.0 MB 2.8 MB/s eta 0:00:32\n",
      "   ----- ---------------------------------- 12.7/101.0 MB 2.9 MB/s eta 0:00:31\n",
      "   ----- ---------------------------------- 12.9/101.0 MB 2.9 MB/s eta 0:00:31\n",
      "   ----- ---------------------------------- 13.0/101.0 MB 2.9 MB/s eta 0:00:31\n",
      "   ----- ---------------------------------- 13.2/101.0 MB 2.9 MB/s eta 0:00:31\n",
      "   ----- ---------------------------------- 13.3/101.0 MB 2.9 MB/s eta 0:00:31\n",
      "   ----- ---------------------------------- 13.5/101.0 MB 2.9 MB/s eta 0:00:31\n",
      "   ----- ---------------------------------- 13.8/101.0 MB 2.9 MB/s eta 0:00:31\n",
      "   ----- ---------------------------------- 13.9/101.0 MB 2.9 MB/s eta 0:00:31\n",
      "   ----- ---------------------------------- 14.0/101.0 MB 2.9 MB/s eta 0:00:31\n",
      "   ----- ---------------------------------- 14.0/101.0 MB 2.9 MB/s eta 0:00:31\n",
      "   ----- ---------------------------------- 14.0/101.0 MB 2.9 MB/s eta 0:00:31\n",
      "   ----- ---------------------------------- 14.5/101.0 MB 2.9 MB/s eta 0:00:30\n",
      "   ----- ---------------------------------- 14.6/101.0 MB 2.9 MB/s eta 0:00:30\n",
      "   ----- ---------------------------------- 14.7/101.0 MB 2.9 MB/s eta 0:00:30\n",
      "   ----- ---------------------------------- 14.9/101.0 MB 3.0 MB/s eta 0:00:29\n",
      "   ----- ---------------------------------- 15.0/101.0 MB 3.0 MB/s eta 0:00:29\n",
      "   ------ --------------------------------- 15.2/101.0 MB 3.0 MB/s eta 0:00:29\n",
      "   ------ --------------------------------- 15.3/101.0 MB 2.9 MB/s eta 0:00:30\n",
      "   ------ --------------------------------- 15.5/101.0 MB 2.9 MB/s eta 0:00:30\n",
      "   ------ --------------------------------- 15.7/101.0 MB 3.0 MB/s eta 0:00:29\n",
      "   ------ --------------------------------- 15.8/101.0 MB 3.0 MB/s eta 0:00:29\n",
      "   ------ --------------------------------- 16.0/101.0 MB 3.0 MB/s eta 0:00:29\n",
      "   ------ --------------------------------- 16.1/101.0 MB 3.0 MB/s eta 0:00:29\n",
      "   ------ --------------------------------- 16.3/101.0 MB 2.9 MB/s eta 0:00:29\n",
      "   ------ --------------------------------- 16.4/101.0 MB 2.9 MB/s eta 0:00:29\n",
      "   ------ --------------------------------- 16.5/101.0 MB 2.9 MB/s eta 0:00:30\n",
      "   ------ --------------------------------- 16.7/101.0 MB 2.9 MB/s eta 0:00:29\n",
      "   ------ --------------------------------- 16.8/101.0 MB 3.3 MB/s eta 0:00:26\n",
      "   ------ --------------------------------- 17.0/101.0 MB 3.2 MB/s eta 0:00:27\n",
      "   ------ --------------------------------- 17.1/101.0 MB 3.2 MB/s eta 0:00:27\n",
      "   ------ --------------------------------- 17.4/101.0 MB 3.3 MB/s eta 0:00:26\n",
      "   ------ --------------------------------- 17.5/101.0 MB 3.3 MB/s eta 0:00:26\n",
      "   ------- -------------------------------- 17.7/101.0 MB 3.2 MB/s eta 0:00:26\n",
      "   ------- -------------------------------- 17.8/101.0 MB 3.3 MB/s eta 0:00:26\n",
      "   ------- -------------------------------- 17.9/101.0 MB 3.2 MB/s eta 0:00:26\n",
      "   ------- -------------------------------- 18.1/101.0 MB 3.2 MB/s eta 0:00:26\n",
      "   ------- -------------------------------- 18.3/101.0 MB 3.2 MB/s eta 0:00:26\n",
      "   ------- -------------------------------- 18.5/101.0 MB 3.2 MB/s eta 0:00:26\n",
      "   ------- -------------------------------- 18.6/101.0 MB 3.3 MB/s eta 0:00:26\n",
      "   ------- -------------------------------- 18.7/101.0 MB 3.2 MB/s eta 0:00:26\n",
      "   ------- -------------------------------- 18.9/101.0 MB 3.3 MB/s eta 0:00:26\n",
      "   ------- -------------------------------- 19.1/101.0 MB 3.3 MB/s eta 0:00:25\n",
      "   ------- -------------------------------- 19.4/101.0 MB 3.3 MB/s eta 0:00:25\n",
      "   ------- -------------------------------- 19.5/101.0 MB 3.3 MB/s eta 0:00:25\n",
      "   ------- -------------------------------- 19.7/101.0 MB 3.4 MB/s eta 0:00:25\n",
      "   ------- -------------------------------- 19.9/101.0 MB 3.4 MB/s eta 0:00:25\n",
      "   ------- -------------------------------- 20.0/101.0 MB 3.3 MB/s eta 0:00:25\n",
      "   -------- ------------------------------- 20.3/101.0 MB 3.4 MB/s eta 0:00:24\n",
      "   -------- ------------------------------- 20.5/101.0 MB 3.4 MB/s eta 0:00:24\n",
      "   -------- ------------------------------- 20.6/101.0 MB 3.5 MB/s eta 0:00:24\n",
      "   -------- ------------------------------- 20.7/101.0 MB 3.4 MB/s eta 0:00:24\n",
      "   -------- ------------------------------- 20.9/101.0 MB 3.4 MB/s eta 0:00:24\n",
      "   -------- ------------------------------- 21.1/101.0 MB 3.3 MB/s eta 0:00:24\n",
      "   -------- ------------------------------- 21.3/101.0 MB 3.3 MB/s eta 0:00:24\n",
      "   -------- ------------------------------- 21.5/101.0 MB 3.4 MB/s eta 0:00:24\n",
      "   -------- ------------------------------- 21.6/101.0 MB 3.4 MB/s eta 0:00:24\n",
      "   -------- ------------------------------- 21.9/101.0 MB 3.4 MB/s eta 0:00:24\n",
      "   -------- ------------------------------- 22.0/101.0 MB 3.4 MB/s eta 0:00:24\n",
      "   -------- ------------------------------- 22.2/101.0 MB 3.4 MB/s eta 0:00:23\n",
      "   -------- ------------------------------- 22.4/101.0 MB 3.5 MB/s eta 0:00:23\n",
      "   -------- ------------------------------- 22.6/101.0 MB 3.5 MB/s eta 0:00:23\n",
      "   --------- ------------------------------ 22.8/101.0 MB 3.5 MB/s eta 0:00:23\n",
      "   --------- ------------------------------ 22.9/101.0 MB 3.5 MB/s eta 0:00:23\n",
      "   --------- ------------------------------ 23.2/101.0 MB 3.5 MB/s eta 0:00:23\n",
      "   --------- ------------------------------ 23.2/101.0 MB 3.5 MB/s eta 0:00:23\n",
      "   --------- ------------------------------ 23.4/101.0 MB 3.5 MB/s eta 0:00:23\n",
      "   --------- ------------------------------ 23.6/101.0 MB 3.5 MB/s eta 0:00:23\n",
      "   --------- ------------------------------ 23.8/101.0 MB 3.5 MB/s eta 0:00:22\n",
      "   --------- ------------------------------ 23.9/101.0 MB 3.5 MB/s eta 0:00:23\n",
      "   --------- ------------------------------ 24.1/101.0 MB 3.4 MB/s eta 0:00:23\n",
      "   --------- ------------------------------ 24.3/101.0 MB 3.6 MB/s eta 0:00:22\n",
      "   --------- ------------------------------ 24.4/101.0 MB 3.6 MB/s eta 0:00:22\n",
      "   --------- ------------------------------ 24.6/101.0 MB 3.5 MB/s eta 0:00:22\n",
      "   --------- ------------------------------ 24.7/101.0 MB 3.5 MB/s eta 0:00:23\n",
      "   --------- ------------------------------ 24.9/101.0 MB 3.5 MB/s eta 0:00:22\n",
      "   --------- ------------------------------ 25.1/101.0 MB 3.5 MB/s eta 0:00:22\n",
      "   ---------- ----------------------------- 25.4/101.0 MB 3.6 MB/s eta 0:00:22\n",
      "   ---------- ----------------------------- 25.6/101.0 MB 3.6 MB/s eta 0:00:21\n",
      "   ---------- ----------------------------- 25.8/101.0 MB 3.6 MB/s eta 0:00:21\n",
      "   ---------- ----------------------------- 25.9/101.0 MB 3.6 MB/s eta 0:00:21\n",
      "   ---------- ----------------------------- 26.1/101.0 MB 3.6 MB/s eta 0:00:21\n",
      "   ---------- ----------------------------- 26.3/101.0 MB 3.6 MB/s eta 0:00:21\n",
      "   ---------- ----------------------------- 26.6/101.0 MB 3.7 MB/s eta 0:00:21\n",
      "   ---------- ----------------------------- 26.8/101.0 MB 3.8 MB/s eta 0:00:20\n",
      "   ---------- ----------------------------- 26.8/101.0 MB 3.7 MB/s eta 0:00:20\n",
      "   ---------- ----------------------------- 27.0/101.0 MB 3.7 MB/s eta 0:00:20\n",
      "   ---------- ----------------------------- 27.2/101.0 MB 3.7 MB/s eta 0:00:20\n",
      "   ---------- ----------------------------- 27.4/101.0 MB 3.7 MB/s eta 0:00:20\n",
      "   ---------- ----------------------------- 27.4/101.0 MB 3.7 MB/s eta 0:00:20\n",
      "   ---------- ----------------------------- 27.4/101.0 MB 3.7 MB/s eta 0:00:20\n",
      "   ---------- ----------------------------- 27.7/101.0 MB 3.6 MB/s eta 0:00:21\n",
      "   ----------- ---------------------------- 27.8/101.0 MB 3.6 MB/s eta 0:00:21\n",
      "   ----------- ---------------------------- 27.9/101.0 MB 3.6 MB/s eta 0:00:21\n",
      "   ----------- ---------------------------- 28.0/101.0 MB 3.6 MB/s eta 0:00:21\n",
      "   ----------- ---------------------------- 28.2/101.0 MB 3.6 MB/s eta 0:00:21\n",
      "   ----------- ---------------------------- 28.2/101.0 MB 3.6 MB/s eta 0:00:21\n",
      "   ----------- ---------------------------- 28.4/101.0 MB 3.6 MB/s eta 0:00:21\n",
      "   ----------- ---------------------------- 28.5/101.0 MB 3.6 MB/s eta 0:00:21\n",
      "   ----------- ---------------------------- 28.7/101.0 MB 3.5 MB/s eta 0:00:21\n",
      "   ----------- ---------------------------- 28.8/101.0 MB 3.5 MB/s eta 0:00:21\n",
      "   ----------- ---------------------------- 29.0/101.0 MB 3.6 MB/s eta 0:00:21\n",
      "   ----------- ---------------------------- 29.1/101.0 MB 3.5 MB/s eta 0:00:21\n",
      "   ----------- ---------------------------- 29.3/101.0 MB 3.5 MB/s eta 0:00:21\n",
      "   ----------- ---------------------------- 29.4/101.0 MB 3.5 MB/s eta 0:00:21\n",
      "   ----------- ---------------------------- 29.5/101.0 MB 3.5 MB/s eta 0:00:21\n",
      "   ----------- ---------------------------- 29.7/101.0 MB 3.5 MB/s eta 0:00:21\n",
      "   ----------- ---------------------------- 29.9/101.0 MB 3.5 MB/s eta 0:00:21\n",
      "   ----------- ---------------------------- 30.1/101.0 MB 3.5 MB/s eta 0:00:21\n",
      "   ----------- ---------------------------- 30.2/101.0 MB 3.5 MB/s eta 0:00:21\n",
      "   ------------ --------------------------- 30.3/101.0 MB 3.5 MB/s eta 0:00:21\n",
      "   ------------ --------------------------- 30.5/101.0 MB 3.4 MB/s eta 0:00:21\n",
      "   ------------ --------------------------- 30.6/101.0 MB 3.4 MB/s eta 0:00:21\n",
      "   ------------ --------------------------- 30.9/101.0 MB 3.5 MB/s eta 0:00:21\n",
      "   ------------ --------------------------- 31.0/101.0 MB 3.5 MB/s eta 0:00:21\n",
      "   ------------ --------------------------- 31.3/101.0 MB 3.5 MB/s eta 0:00:21\n",
      "   ------------ --------------------------- 31.4/101.0 MB 3.5 MB/s eta 0:00:20\n",
      "   ------------ --------------------------- 31.5/101.0 MB 3.5 MB/s eta 0:00:20\n",
      "   ------------ --------------------------- 31.8/101.0 MB 3.5 MB/s eta 0:00:20\n",
      "   ------------ --------------------------- 32.0/101.0 MB 3.5 MB/s eta 0:00:20\n",
      "   ------------ --------------------------- 32.2/101.0 MB 3.4 MB/s eta 0:00:20\n",
      "   ------------ --------------------------- 32.3/101.0 MB 3.4 MB/s eta 0:00:20\n",
      "   ------------ --------------------------- 32.4/101.0 MB 3.4 MB/s eta 0:00:21\n",
      "   ------------ --------------------------- 32.6/101.0 MB 3.5 MB/s eta 0:00:20\n",
      "   ------------ --------------------------- 32.8/101.0 MB 3.4 MB/s eta 0:00:20\n",
      "   ------------- -------------------------- 33.0/101.0 MB 3.4 MB/s eta 0:00:20\n",
      "   ------------- -------------------------- 33.1/101.0 MB 3.4 MB/s eta 0:00:20\n",
      "   ------------- -------------------------- 33.4/101.0 MB 3.4 MB/s eta 0:00:20\n",
      "   ------------- -------------------------- 33.6/101.0 MB 3.5 MB/s eta 0:00:20\n",
      "   ------------- -------------------------- 33.8/101.0 MB 3.5 MB/s eta 0:00:20\n",
      "   ------------- -------------------------- 33.9/101.0 MB 3.5 MB/s eta 0:00:20\n",
      "   ------------- -------------------------- 34.1/101.0 MB 3.5 MB/s eta 0:00:20\n",
      "   ------------- -------------------------- 34.2/101.0 MB 3.5 MB/s eta 0:00:20\n",
      "   ------------- -------------------------- 34.5/101.0 MB 3.5 MB/s eta 0:00:20\n",
      "   ------------- -------------------------- 34.7/101.0 MB 3.5 MB/s eta 0:00:19\n",
      "   ------------- -------------------------- 34.8/101.0 MB 3.5 MB/s eta 0:00:19\n",
      "   ------------- -------------------------- 35.0/101.0 MB 3.6 MB/s eta 0:00:19\n",
      "   ------------- -------------------------- 35.1/101.0 MB 3.5 MB/s eta 0:00:19\n",
      "   ------------- -------------------------- 35.3/101.0 MB 3.5 MB/s eta 0:00:19\n",
      "   -------------- ------------------------- 35.5/101.0 MB 3.5 MB/s eta 0:00:19\n",
      "   -------------- ------------------------- 35.7/101.0 MB 3.5 MB/s eta 0:00:19\n",
      "   -------------- ------------------------- 35.8/101.0 MB 3.5 MB/s eta 0:00:19\n",
      "   -------------- ------------------------- 36.1/101.0 MB 3.5 MB/s eta 0:00:19\n",
      "   -------------- ------------------------- 36.4/101.0 MB 3.5 MB/s eta 0:00:19\n",
      "   -------------- ------------------------- 36.6/101.0 MB 3.5 MB/s eta 0:00:19\n",
      "   -------------- ------------------------- 36.8/101.0 MB 3.5 MB/s eta 0:00:19\n",
      "   -------------- ------------------------- 37.0/101.0 MB 3.5 MB/s eta 0:00:19\n",
      "   -------------- ------------------------- 37.2/101.0 MB 3.5 MB/s eta 0:00:19\n",
      "   -------------- ------------------------- 37.5/101.0 MB 3.6 MB/s eta 0:00:18\n",
      "   -------------- ------------------------- 37.6/101.0 MB 3.7 MB/s eta 0:00:18\n",
      "   -------------- ------------------------- 37.9/101.0 MB 3.7 MB/s eta 0:00:18\n",
      "   --------------- ------------------------ 38.1/101.0 MB 3.7 MB/s eta 0:00:18\n",
      "   --------------- ------------------------ 38.2/101.0 MB 3.7 MB/s eta 0:00:17\n",
      "   --------------- ------------------------ 38.5/101.0 MB 3.8 MB/s eta 0:00:17\n",
      "   --------------- ------------------------ 38.6/101.0 MB 3.8 MB/s eta 0:00:17\n",
      "   --------------- ------------------------ 38.9/101.0 MB 3.8 MB/s eta 0:00:17\n",
      "   --------------- ------------------------ 39.1/101.0 MB 3.9 MB/s eta 0:00:17\n",
      "   --------------- ------------------------ 39.3/101.0 MB 3.9 MB/s eta 0:00:17\n",
      "   --------------- ------------------------ 39.5/101.0 MB 3.9 MB/s eta 0:00:16\n",
      "   --------------- ------------------------ 39.7/101.0 MB 3.9 MB/s eta 0:00:16\n",
      "   --------------- ------------------------ 39.9/101.0 MB 4.0 MB/s eta 0:00:16\n",
      "   --------------- ------------------------ 40.1/101.0 MB 4.0 MB/s eta 0:00:16\n",
      "   --------------- ------------------------ 40.3/101.0 MB 4.0 MB/s eta 0:00:16\n",
      "   ---------------- ----------------------- 40.6/101.0 MB 4.0 MB/s eta 0:00:15\n",
      "   ---------------- ----------------------- 40.8/101.0 MB 4.1 MB/s eta 0:00:15\n",
      "   ---------------- ----------------------- 41.0/101.0 MB 4.1 MB/s eta 0:00:15\n",
      "   ---------------- ----------------------- 41.3/101.0 MB 4.1 MB/s eta 0:00:15\n",
      "   ---------------- ----------------------- 41.5/101.0 MB 4.1 MB/s eta 0:00:15\n",
      "   ---------------- ----------------------- 41.7/101.0 MB 4.1 MB/s eta 0:00:15\n",
      "   ---------------- ----------------------- 41.9/101.0 MB 4.1 MB/s eta 0:00:15\n",
      "   ---------------- ----------------------- 42.1/101.0 MB 4.1 MB/s eta 0:00:15\n",
      "   ---------------- ----------------------- 42.1/101.0 MB 4.1 MB/s eta 0:00:15\n",
      "   ---------------- ----------------------- 42.5/101.0 MB 4.2 MB/s eta 0:00:15\n",
      "   ---------------- ----------------------- 42.6/101.0 MB 4.1 MB/s eta 0:00:15\n",
      "   ---------------- ----------------------- 42.8/101.0 MB 4.2 MB/s eta 0:00:14\n",
      "   ----------------- ---------------------- 43.0/101.0 MB 4.2 MB/s eta 0:00:14\n",
      "   ----------------- ---------------------- 43.1/101.0 MB 4.1 MB/s eta 0:00:14\n",
      "   ----------------- ---------------------- 43.3/101.0 MB 4.2 MB/s eta 0:00:14\n",
      "   ----------------- ---------------------- 43.5/101.0 MB 4.1 MB/s eta 0:00:14\n",
      "   ----------------- ---------------------- 43.7/101.0 MB 4.1 MB/s eta 0:00:14\n",
      "   ----------------- ---------------------- 43.9/101.0 MB 4.1 MB/s eta 0:00:14\n",
      "   ----------------- ---------------------- 44.0/101.0 MB 4.1 MB/s eta 0:00:15\n",
      "   ----------------- ---------------------- 44.3/101.0 MB 4.1 MB/s eta 0:00:14\n",
      "   ----------------- ---------------------- 44.5/101.0 MB 4.2 MB/s eta 0:00:14\n",
      "   ----------------- ---------------------- 44.7/101.0 MB 4.1 MB/s eta 0:00:14\n",
      "   ----------------- ---------------------- 44.9/101.0 MB 4.2 MB/s eta 0:00:14\n",
      "   ----------------- ---------------------- 45.2/101.0 MB 4.2 MB/s eta 0:00:14\n",
      "   ----------------- ---------------------- 45.4/101.0 MB 4.3 MB/s eta 0:00:14\n",
      "   ------------------ --------------------- 45.6/101.0 MB 4.2 MB/s eta 0:00:14\n",
      "   ------------------ --------------------- 45.8/101.0 MB 4.2 MB/s eta 0:00:14\n",
      "   ------------------ --------------------- 46.1/101.0 MB 4.3 MB/s eta 0:00:13\n",
      "   ------------------ --------------------- 46.2/101.0 MB 4.2 MB/s eta 0:00:13\n",
      "   ------------------ --------------------- 46.4/101.0 MB 4.2 MB/s eta 0:00:13\n",
      "   ------------------ --------------------- 46.5/101.0 MB 4.2 MB/s eta 0:00:14\n",
      "   ------------------ --------------------- 46.7/101.0 MB 4.2 MB/s eta 0:00:13\n",
      "   ------------------ --------------------- 46.9/101.0 MB 4.2 MB/s eta 0:00:13\n",
      "   ------------------ --------------------- 47.0/101.0 MB 4.1 MB/s eta 0:00:14\n",
      "   ------------------ --------------------- 47.2/101.0 MB 4.1 MB/s eta 0:00:14\n",
      "   ------------------ --------------------- 47.4/101.0 MB 4.1 MB/s eta 0:00:14\n",
      "   ------------------ --------------------- 47.5/101.0 MB 4.1 MB/s eta 0:00:14\n",
      "   ------------------ --------------------- 47.6/101.0 MB 4.0 MB/s eta 0:00:14\n",
      "   ------------------ --------------------- 47.7/101.0 MB 4.0 MB/s eta 0:00:14\n",
      "   ------------------ --------------------- 47.8/101.0 MB 4.0 MB/s eta 0:00:14\n",
      "   ------------------ --------------------- 47.9/101.0 MB 4.0 MB/s eta 0:00:14\n",
      "   ------------------- -------------------- 48.2/101.0 MB 3.9 MB/s eta 0:00:14\n",
      "   ------------------- -------------------- 48.3/101.0 MB 3.9 MB/s eta 0:00:14\n",
      "   ------------------- -------------------- 48.5/101.0 MB 3.9 MB/s eta 0:00:14\n",
      "   ------------------- -------------------- 48.7/101.0 MB 3.9 MB/s eta 0:00:14\n",
      "   ------------------- -------------------- 48.8/101.0 MB 3.9 MB/s eta 0:00:14\n",
      "   ------------------- -------------------- 49.0/101.0 MB 3.9 MB/s eta 0:00:14\n",
      "   ------------------- -------------------- 49.2/101.0 MB 3.9 MB/s eta 0:00:14\n",
      "   ------------------- -------------------- 49.2/101.0 MB 3.8 MB/s eta 0:00:14\n",
      "   ------------------- -------------------- 49.4/101.0 MB 3.8 MB/s eta 0:00:14\n",
      "   ------------------- -------------------- 49.7/101.0 MB 3.9 MB/s eta 0:00:14\n",
      "   ------------------- -------------------- 49.8/101.0 MB 3.8 MB/s eta 0:00:14\n",
      "   ------------------- -------------------- 50.1/101.0 MB 3.9 MB/s eta 0:00:14\n",
      "   ------------------- -------------------- 50.3/101.0 MB 3.8 MB/s eta 0:00:14\n",
      "   ------------------- -------------------- 50.5/101.0 MB 3.9 MB/s eta 0:00:14\n",
      "   -------------------- ------------------- 50.7/101.0 MB 3.8 MB/s eta 0:00:14\n",
      "   -------------------- ------------------- 50.9/101.0 MB 3.8 MB/s eta 0:00:14\n",
      "   -------------------- ------------------- 51.1/101.0 MB 3.8 MB/s eta 0:00:14\n",
      "   -------------------- ------------------- 51.3/101.0 MB 3.8 MB/s eta 0:00:14\n",
      "   -------------------- ------------------- 51.6/101.0 MB 3.8 MB/s eta 0:00:14\n",
      "   -------------------- ------------------- 51.8/101.0 MB 3.8 MB/s eta 0:00:14\n",
      "   -------------------- ------------------- 52.0/101.0 MB 3.8 MB/s eta 0:00:13\n",
      "   -------------------- ------------------- 52.3/101.0 MB 3.8 MB/s eta 0:00:13\n",
      "   -------------------- ------------------- 52.5/101.0 MB 3.9 MB/s eta 0:00:13\n",
      "   -------------------- ------------------- 52.7/101.0 MB 3.9 MB/s eta 0:00:13\n",
      "   -------------------- ------------------- 53.0/101.0 MB 3.9 MB/s eta 0:00:13\n",
      "   --------------------- ------------------ 53.3/101.0 MB 3.9 MB/s eta 0:00:13\n",
      "   --------------------- ------------------ 53.5/101.0 MB 4.0 MB/s eta 0:00:12\n",
      "   --------------------- ------------------ 53.7/101.0 MB 4.0 MB/s eta 0:00:12\n",
      "   --------------------- ------------------ 54.0/101.0 MB 4.0 MB/s eta 0:00:12\n",
      "   --------------------- ------------------ 54.2/101.0 MB 4.1 MB/s eta 0:00:12\n",
      "   --------------------- ------------------ 54.5/101.0 MB 4.1 MB/s eta 0:00:12\n",
      "   --------------------- ------------------ 54.7/101.0 MB 4.1 MB/s eta 0:00:12\n",
      "   --------------------- ------------------ 54.9/101.0 MB 4.1 MB/s eta 0:00:12\n",
      "   --------------------- ------------------ 55.1/101.0 MB 4.1 MB/s eta 0:00:12\n",
      "   --------------------- ------------------ 55.4/101.0 MB 4.1 MB/s eta 0:00:12\n",
      "   ---------------------- ----------------- 55.6/101.0 MB 4.2 MB/s eta 0:00:11\n",
      "   ---------------------- ----------------- 55.9/101.0 MB 4.1 MB/s eta 0:00:11\n",
      "   ---------------------- ----------------- 56.1/101.0 MB 4.2 MB/s eta 0:00:11\n",
      "   ---------------------- ----------------- 56.2/101.0 MB 4.2 MB/s eta 0:00:11\n",
      "   ---------------------- ----------------- 56.5/101.0 MB 4.2 MB/s eta 0:00:11\n",
      "   ---------------------- ----------------- 56.6/101.0 MB 4.1 MB/s eta 0:00:11\n",
      "   ---------------------- ----------------- 56.9/101.0 MB 4.2 MB/s eta 0:00:11\n",
      "   ---------------------- ----------------- 57.0/101.0 MB 4.3 MB/s eta 0:00:11\n",
      "   ---------------------- ----------------- 57.3/101.0 MB 4.3 MB/s eta 0:00:11\n",
      "   ---------------------- ----------------- 57.4/101.0 MB 4.3 MB/s eta 0:00:11\n",
      "   ---------------------- ----------------- 57.6/101.0 MB 4.3 MB/s eta 0:00:11\n",
      "   ---------------------- ----------------- 57.8/101.0 MB 4.4 MB/s eta 0:00:10\n",
      "   ---------------------- ----------------- 57.9/101.0 MB 4.3 MB/s eta 0:00:10\n",
      "   ---------------------- ----------------- 58.1/101.0 MB 4.4 MB/s eta 0:00:10\n",
      "   ----------------------- ---------------- 58.4/101.0 MB 4.4 MB/s eta 0:00:10\n",
      "   ----------------------- ---------------- 58.5/101.0 MB 4.5 MB/s eta 0:00:10\n",
      "   ----------------------- ---------------- 58.7/101.0 MB 4.5 MB/s eta 0:00:10\n",
      "   ----------------------- ---------------- 58.8/101.0 MB 4.4 MB/s eta 0:00:10\n",
      "   ----------------------- ---------------- 59.0/101.0 MB 4.5 MB/s eta 0:00:10\n",
      "   ----------------------- ---------------- 59.1/101.0 MB 4.5 MB/s eta 0:00:10\n",
      "   ----------------------- ---------------- 59.4/101.0 MB 4.5 MB/s eta 0:00:10\n",
      "   ----------------------- ---------------- 59.6/101.0 MB 4.5 MB/s eta 0:00:10\n",
      "   ----------------------- ---------------- 59.8/101.0 MB 4.5 MB/s eta 0:00:10\n",
      "   ----------------------- ---------------- 59.9/101.0 MB 4.5 MB/s eta 0:00:10\n",
      "   ----------------------- ---------------- 60.1/101.0 MB 4.6 MB/s eta 0:00:09\n",
      "   ----------------------- ---------------- 60.1/101.0 MB 4.5 MB/s eta 0:00:10\n",
      "   ----------------------- ---------------- 60.1/101.0 MB 4.5 MB/s eta 0:00:10\n",
      "   ----------------------- ---------------- 60.1/101.0 MB 4.5 MB/s eta 0:00:10\n",
      "   ----------------------- ---------------- 60.6/101.0 MB 4.4 MB/s eta 0:00:10\n",
      "   ------------------------ --------------- 60.7/101.0 MB 4.3 MB/s eta 0:00:10\n",
      "   ------------------------ --------------- 60.7/101.0 MB 4.3 MB/s eta 0:00:10\n",
      "   ------------------------ --------------- 60.9/101.0 MB 4.2 MB/s eta 0:00:10\n",
      "   ------------------------ --------------- 61.0/101.0 MB 4.2 MB/s eta 0:00:10\n",
      "   ------------------------ --------------- 61.1/101.0 MB 4.2 MB/s eta 0:00:10\n",
      "   ------------------------ --------------- 61.3/101.0 MB 4.1 MB/s eta 0:00:10\n",
      "   ------------------------ --------------- 61.4/101.0 MB 4.1 MB/s eta 0:00:10\n",
      "   ------------------------ --------------- 61.5/101.0 MB 4.1 MB/s eta 0:00:10\n",
      "   ------------------------ --------------- 61.7/101.0 MB 4.0 MB/s eta 0:00:10\n",
      "   ------------------------ --------------- 61.9/101.0 MB 4.0 MB/s eta 0:00:10\n",
      "   ------------------------ --------------- 62.0/101.0 MB 4.0 MB/s eta 0:00:10\n",
      "   ------------------------ --------------- 62.2/101.0 MB 4.0 MB/s eta 0:00:10\n",
      "   ------------------------ --------------- 62.4/101.0 MB 3.9 MB/s eta 0:00:10\n",
      "   ------------------------ --------------- 62.6/101.0 MB 3.9 MB/s eta 0:00:10\n",
      "   ------------------------ --------------- 62.7/101.0 MB 3.9 MB/s eta 0:00:10\n",
      "   ------------------------ --------------- 62.9/101.0 MB 3.9 MB/s eta 0:00:10\n",
      "   ------------------------ --------------- 63.1/101.0 MB 3.9 MB/s eta 0:00:10\n",
      "   ------------------------- -------------- 63.3/101.0 MB 3.8 MB/s eta 0:00:10\n",
      "   ------------------------- -------------- 63.4/101.0 MB 3.8 MB/s eta 0:00:10\n",
      "   ------------------------- -------------- 63.6/101.0 MB 3.8 MB/s eta 0:00:10\n",
      "   ------------------------- -------------- 63.7/101.0 MB 3.7 MB/s eta 0:00:10\n",
      "   ------------------------- -------------- 63.9/101.0 MB 3.7 MB/s eta 0:00:10\n",
      "   ------------------------- -------------- 64.1/101.0 MB 3.7 MB/s eta 0:00:10\n",
      "   ------------------------- -------------- 64.3/101.0 MB 3.7 MB/s eta 0:00:10\n",
      "   ------------------------- -------------- 64.5/101.0 MB 3.7 MB/s eta 0:00:10\n",
      "   ------------------------- -------------- 64.7/101.0 MB 3.6 MB/s eta 0:00:10\n",
      "   ------------------------- -------------- 64.8/101.0 MB 3.6 MB/s eta 0:00:10\n",
      "   ------------------------- -------------- 65.0/101.0 MB 3.6 MB/s eta 0:00:11\n",
      "   ------------------------- -------------- 65.1/101.0 MB 3.6 MB/s eta 0:00:11\n",
      "   ------------------------- -------------- 65.3/101.0 MB 3.6 MB/s eta 0:00:11\n",
      "   ------------------------- -------------- 65.3/101.0 MB 3.6 MB/s eta 0:00:11\n",
      "   ------------------------- -------------- 65.5/101.0 MB 3.5 MB/s eta 0:00:11\n",
      "   ------------------------- -------------- 65.6/101.0 MB 3.4 MB/s eta 0:00:11\n",
      "   -------------------------- ------------- 65.7/101.0 MB 3.4 MB/s eta 0:00:11\n",
      "   -------------------------- ------------- 65.8/101.0 MB 3.4 MB/s eta 0:00:11\n",
      "   -------------------------- ------------- 66.0/101.0 MB 3.4 MB/s eta 0:00:11\n",
      "   -------------------------- ------------- 66.1/101.0 MB 3.4 MB/s eta 0:00:11\n",
      "   -------------------------- ------------- 66.3/101.0 MB 3.4 MB/s eta 0:00:11\n",
      "   -------------------------- ------------- 66.5/101.0 MB 3.4 MB/s eta 0:00:11\n",
      "   -------------------------- ------------- 66.7/101.0 MB 3.4 MB/s eta 0:00:11\n",
      "   -------------------------- ------------- 66.9/101.0 MB 3.4 MB/s eta 0:00:11\n",
      "   -------------------------- ------------- 67.0/101.0 MB 3.4 MB/s eta 0:00:11\n",
      "   -------------------------- ------------- 67.2/101.0 MB 3.3 MB/s eta 0:00:11\n",
      "   -------------------------- ------------- 67.4/101.0 MB 3.3 MB/s eta 0:00:11\n",
      "   -------------------------- ------------- 67.5/101.0 MB 3.3 MB/s eta 0:00:11\n",
      "   -------------------------- ------------- 67.7/101.0 MB 3.3 MB/s eta 0:00:11\n",
      "   -------------------------- ------------- 67.9/101.0 MB 3.3 MB/s eta 0:00:11\n",
      "   -------------------------- ------------- 68.1/101.0 MB 3.3 MB/s eta 0:00:10\n",
      "   --------------------------- ------------ 68.2/101.0 MB 3.3 MB/s eta 0:00:10\n",
      "   --------------------------- ------------ 68.4/101.0 MB 3.3 MB/s eta 0:00:10\n",
      "   --------------------------- ------------ 68.6/101.0 MB 3.3 MB/s eta 0:00:10\n",
      "   --------------------------- ------------ 68.8/101.0 MB 3.3 MB/s eta 0:00:10\n",
      "   --------------------------- ------------ 68.9/101.0 MB 3.3 MB/s eta 0:00:10\n",
      "   --------------------------- ------------ 69.1/101.0 MB 3.3 MB/s eta 0:00:10\n",
      "   --------------------------- ------------ 69.3/101.0 MB 3.3 MB/s eta 0:00:10\n",
      "   --------------------------- ------------ 69.5/101.0 MB 3.3 MB/s eta 0:00:10\n",
      "   --------------------------- ------------ 69.6/101.0 MB 3.3 MB/s eta 0:00:10\n",
      "   --------------------------- ------------ 69.8/101.0 MB 3.3 MB/s eta 0:00:10\n",
      "   --------------------------- ------------ 70.0/101.0 MB 3.3 MB/s eta 0:00:10\n",
      "   --------------------------- ------------ 70.2/101.0 MB 3.3 MB/s eta 0:00:10\n",
      "   --------------------------- ------------ 70.4/101.0 MB 3.3 MB/s eta 0:00:10\n",
      "   --------------------------- ------------ 70.5/101.0 MB 3.4 MB/s eta 0:00:09\n",
      "   ---------------------------- ----------- 70.7/101.0 MB 3.4 MB/s eta 0:00:10\n",
      "   ---------------------------- ----------- 70.9/101.0 MB 3.4 MB/s eta 0:00:09\n",
      "   ---------------------------- ----------- 71.1/101.0 MB 3.4 MB/s eta 0:00:09\n",
      "   ---------------------------- ----------- 71.2/101.0 MB 3.4 MB/s eta 0:00:09\n",
      "   ---------------------------- ----------- 71.4/101.0 MB 3.4 MB/s eta 0:00:09\n",
      "   ---------------------------- ----------- 71.5/101.0 MB 3.5 MB/s eta 0:00:09\n",
      "   ---------------------------- ----------- 71.7/101.0 MB 3.5 MB/s eta 0:00:09\n",
      "   ---------------------------- ----------- 71.8/101.0 MB 3.5 MB/s eta 0:00:09\n",
      "   ---------------------------- ----------- 72.0/101.0 MB 3.5 MB/s eta 0:00:09\n",
      "   ---------------------------- ----------- 72.1/101.0 MB 3.4 MB/s eta 0:00:09\n",
      "   ---------------------------- ----------- 72.3/101.0 MB 3.5 MB/s eta 0:00:09\n",
      "   ---------------------------- ----------- 72.5/101.0 MB 3.5 MB/s eta 0:00:09\n",
      "   ---------------------------- ----------- 72.6/101.0 MB 3.5 MB/s eta 0:00:09\n",
      "   ---------------------------- ----------- 72.8/101.0 MB 3.4 MB/s eta 0:00:09\n",
      "   ---------------------------- ----------- 73.0/101.0 MB 3.5 MB/s eta 0:00:09\n",
      "   ---------------------------- ----------- 73.1/101.0 MB 3.5 MB/s eta 0:00:08\n",
      "   ----------------------------- ---------- 73.2/101.0 MB 3.5 MB/s eta 0:00:09\n",
      "   ----------------------------- ---------- 73.5/101.0 MB 3.5 MB/s eta 0:00:08\n",
      "   ----------------------------- ---------- 73.6/101.0 MB 3.5 MB/s eta 0:00:08\n",
      "   ----------------------------- ---------- 73.9/101.0 MB 3.5 MB/s eta 0:00:08\n",
      "   ----------------------------- ---------- 74.0/101.0 MB 3.5 MB/s eta 0:00:08\n",
      "   ----------------------------- ---------- 74.2/101.0 MB 3.5 MB/s eta 0:00:08\n",
      "   ----------------------------- ---------- 74.4/101.0 MB 3.5 MB/s eta 0:00:08\n",
      "   ----------------------------- ---------- 74.6/101.0 MB 3.5 MB/s eta 0:00:08\n",
      "   ----------------------------- ---------- 74.9/101.0 MB 3.5 MB/s eta 0:00:08\n",
      "   ----------------------------- ---------- 75.1/101.0 MB 3.6 MB/s eta 0:00:08\n",
      "   ----------------------------- ---------- 75.3/101.0 MB 3.6 MB/s eta 0:00:08\n",
      "   ----------------------------- ---------- 75.5/101.0 MB 3.6 MB/s eta 0:00:08\n",
      "   ----------------------------- ---------- 75.7/101.0 MB 3.7 MB/s eta 0:00:07\n",
      "   ------------------------------ --------- 75.9/101.0 MB 3.7 MB/s eta 0:00:07\n",
      "   ------------------------------ --------- 76.1/101.0 MB 3.8 MB/s eta 0:00:07\n",
      "   ------------------------------ --------- 76.3/101.0 MB 3.8 MB/s eta 0:00:07\n",
      "   ------------------------------ --------- 76.5/101.0 MB 3.8 MB/s eta 0:00:07\n",
      "   ------------------------------ --------- 76.7/101.0 MB 3.8 MB/s eta 0:00:07\n",
      "   ------------------------------ --------- 77.0/101.0 MB 3.8 MB/s eta 0:00:07\n",
      "   ------------------------------ --------- 77.2/101.0 MB 3.8 MB/s eta 0:00:07\n",
      "   ------------------------------ --------- 77.4/101.0 MB 3.9 MB/s eta 0:00:07\n",
      "   ------------------------------ --------- 77.6/101.0 MB 3.9 MB/s eta 0:00:07\n",
      "   ------------------------------ --------- 77.8/101.0 MB 3.9 MB/s eta 0:00:06\n",
      "   ------------------------------ --------- 78.0/101.0 MB 3.9 MB/s eta 0:00:06\n",
      "   ------------------------------ --------- 78.3/101.0 MB 3.9 MB/s eta 0:00:06\n",
      "   ------------------------------- -------- 78.5/101.0 MB 4.0 MB/s eta 0:00:06\n",
      "   ------------------------------- -------- 78.6/101.0 MB 3.9 MB/s eta 0:00:06\n",
      "   ------------------------------- -------- 78.8/101.0 MB 4.0 MB/s eta 0:00:06\n",
      "   ------------------------------- -------- 78.9/101.0 MB 3.9 MB/s eta 0:00:06\n",
      "   ------------------------------- -------- 79.0/101.0 MB 3.9 MB/s eta 0:00:06\n",
      "   ------------------------------- -------- 79.2/101.0 MB 3.9 MB/s eta 0:00:06\n",
      "   ------------------------------- -------- 79.2/101.0 MB 3.9 MB/s eta 0:00:06\n",
      "   ------------------------------- -------- 79.4/101.0 MB 3.8 MB/s eta 0:00:06\n",
      "   ------------------------------- -------- 79.6/101.0 MB 3.8 MB/s eta 0:00:06\n",
      "   ------------------------------- -------- 79.8/101.0 MB 3.9 MB/s eta 0:00:06\n",
      "   ------------------------------- -------- 80.0/101.0 MB 3.8 MB/s eta 0:00:06\n",
      "   ------------------------------- -------- 80.1/101.0 MB 3.8 MB/s eta 0:00:06\n",
      "   ------------------------------- -------- 80.3/101.0 MB 3.8 MB/s eta 0:00:06\n",
      "   ------------------------------- -------- 80.5/101.0 MB 3.9 MB/s eta 0:00:06\n",
      "   ------------------------------- -------- 80.7/101.0 MB 3.9 MB/s eta 0:00:06\n",
      "   -------------------------------- ------- 80.9/101.0 MB 3.9 MB/s eta 0:00:06\n",
      "   -------------------------------- ------- 81.1/101.0 MB 3.9 MB/s eta 0:00:06\n",
      "   -------------------------------- ------- 81.2/101.0 MB 3.9 MB/s eta 0:00:06\n",
      "   -------------------------------- ------- 81.5/101.0 MB 3.9 MB/s eta 0:00:05\n",
      "   -------------------------------- ------- 81.7/101.0 MB 3.9 MB/s eta 0:00:05\n",
      "   -------------------------------- ------- 81.8/101.0 MB 3.9 MB/s eta 0:00:05\n",
      "   -------------------------------- ------- 82.0/101.0 MB 4.0 MB/s eta 0:00:05\n",
      "   -------------------------------- ------- 82.2/101.0 MB 4.0 MB/s eta 0:00:05\n",
      "   -------------------------------- ------- 82.4/101.0 MB 4.0 MB/s eta 0:00:05\n",
      "   -------------------------------- ------- 82.5/101.0 MB 4.0 MB/s eta 0:00:05\n",
      "   -------------------------------- ------- 82.7/101.0 MB 4.0 MB/s eta 0:00:05\n",
      "   -------------------------------- ------- 82.9/101.0 MB 4.0 MB/s eta 0:00:05\n",
      "   -------------------------------- ------- 83.1/101.0 MB 4.0 MB/s eta 0:00:05\n",
      "   -------------------------------- ------- 83.2/101.0 MB 4.0 MB/s eta 0:00:05\n",
      "   --------------------------------- ------ 83.4/101.0 MB 4.0 MB/s eta 0:00:05\n",
      "   --------------------------------- ------ 83.6/101.0 MB 4.0 MB/s eta 0:00:05\n",
      "   --------------------------------- ------ 83.8/101.0 MB 4.0 MB/s eta 0:00:05\n",
      "   --------------------------------- ------ 83.9/101.0 MB 4.0 MB/s eta 0:00:05\n",
      "   --------------------------------- ------ 84.0/101.0 MB 4.0 MB/s eta 0:00:05\n",
      "   --------------------------------- ------ 84.1/101.0 MB 3.9 MB/s eta 0:00:05\n",
      "   --------------------------------- ------ 84.2/101.0 MB 3.9 MB/s eta 0:00:05\n",
      "   --------------------------------- ------ 84.3/101.0 MB 3.9 MB/s eta 0:00:05\n",
      "   --------------------------------- ------ 84.4/101.0 MB 3.8 MB/s eta 0:00:05\n",
      "   --------------------------------- ------ 84.6/101.0 MB 3.8 MB/s eta 0:00:05\n",
      "   --------------------------------- ------ 84.8/101.0 MB 3.8 MB/s eta 0:00:05\n",
      "   --------------------------------- ------ 84.9/101.0 MB 3.8 MB/s eta 0:00:05\n",
      "   --------------------------------- ------ 85.1/101.0 MB 3.8 MB/s eta 0:00:05\n",
      "   --------------------------------- ------ 85.3/101.0 MB 3.8 MB/s eta 0:00:05\n",
      "   --------------------------------- ------ 85.4/101.0 MB 3.8 MB/s eta 0:00:05\n",
      "   --------------------------------- ------ 85.7/101.0 MB 3.7 MB/s eta 0:00:05\n",
      "   --------------------------------- ------ 85.8/101.0 MB 3.7 MB/s eta 0:00:05\n",
      "   ---------------------------------- ----- 86.0/101.0 MB 3.7 MB/s eta 0:00:05\n",
      "   ---------------------------------- ----- 86.2/101.0 MB 3.7 MB/s eta 0:00:04\n",
      "   ---------------------------------- ----- 86.4/101.0 MB 3.7 MB/s eta 0:00:04\n",
      "   ---------------------------------- ----- 86.5/101.0 MB 3.7 MB/s eta 0:00:04\n",
      "   ---------------------------------- ----- 86.7/101.0 MB 3.7 MB/s eta 0:00:04\n",
      "   ---------------------------------- ----- 86.8/101.0 MB 3.7 MB/s eta 0:00:04\n",
      "   ---------------------------------- ----- 86.9/101.0 MB 3.6 MB/s eta 0:00:04\n",
      "   ---------------------------------- ----- 87.1/101.0 MB 3.6 MB/s eta 0:00:04\n",
      "   ---------------------------------- ----- 87.3/101.0 MB 3.6 MB/s eta 0:00:04\n",
      "   ---------------------------------- ----- 87.5/101.0 MB 3.6 MB/s eta 0:00:04\n",
      "   ---------------------------------- ----- 87.6/101.0 MB 3.6 MB/s eta 0:00:04\n",
      "   ---------------------------------- ----- 87.8/101.0 MB 3.6 MB/s eta 0:00:04\n",
      "   ---------------------------------- ----- 87.9/101.0 MB 3.6 MB/s eta 0:00:04\n",
      "   ---------------------------------- ----- 88.0/101.0 MB 3.5 MB/s eta 0:00:04\n",
      "   ---------------------------------- ----- 88.2/101.0 MB 3.5 MB/s eta 0:00:04\n",
      "   ---------------------------------- ----- 88.3/101.0 MB 3.4 MB/s eta 0:00:04\n",
      "   ----------------------------------- ---- 88.4/101.0 MB 3.4 MB/s eta 0:00:04\n",
      "   ----------------------------------- ---- 88.6/101.0 MB 3.4 MB/s eta 0:00:04\n",
      "   ----------------------------------- ---- 88.7/101.0 MB 3.4 MB/s eta 0:00:04\n",
      "   ----------------------------------- ---- 88.9/101.0 MB 3.4 MB/s eta 0:00:04\n",
      "   ----------------------------------- ---- 89.1/101.0 MB 3.4 MB/s eta 0:00:04\n",
      "   ----------------------------------- ---- 89.3/101.0 MB 3.4 MB/s eta 0:00:04\n",
      "   ----------------------------------- ---- 89.5/101.0 MB 3.5 MB/s eta 0:00:04\n",
      "   ----------------------------------- ---- 89.7/101.0 MB 3.5 MB/s eta 0:00:04\n",
      "   ----------------------------------- ---- 89.8/101.0 MB 3.5 MB/s eta 0:00:04\n",
      "   ----------------------------------- ---- 90.1/101.0 MB 3.5 MB/s eta 0:00:04\n",
      "   ----------------------------------- ---- 90.2/101.0 MB 3.5 MB/s eta 0:00:04\n",
      "   ----------------------------------- ---- 90.5/101.0 MB 3.5 MB/s eta 0:00:04\n",
      "   ----------------------------------- ---- 90.7/101.0 MB 3.5 MB/s eta 0:00:03\n",
      "   ----------------------------------- ---- 90.8/101.0 MB 3.5 MB/s eta 0:00:03\n",
      "   ------------------------------------ --- 91.1/101.0 MB 3.5 MB/s eta 0:00:03\n",
      "   ------------------------------------ --- 91.3/101.0 MB 3.5 MB/s eta 0:00:03\n",
      "   ------------------------------------ --- 91.5/101.0 MB 3.5 MB/s eta 0:00:03\n",
      "   ------------------------------------ --- 91.7/101.0 MB 3.5 MB/s eta 0:00:03\n",
      "   ------------------------------------ --- 91.9/101.0 MB 3.5 MB/s eta 0:00:03\n",
      "   ------------------------------------ --- 92.0/101.0 MB 3.5 MB/s eta 0:00:03\n",
      "   ------------------------------------ --- 92.3/101.0 MB 3.5 MB/s eta 0:00:03\n",
      "   ------------------------------------ --- 92.4/101.0 MB 3.5 MB/s eta 0:00:03\n",
      "   ------------------------------------ --- 92.7/101.0 MB 3.5 MB/s eta 0:00:03\n",
      "   ------------------------------------ --- 92.9/101.0 MB 3.5 MB/s eta 0:00:03\n",
      "   ------------------------------------ --- 93.1/101.0 MB 3.5 MB/s eta 0:00:03\n",
      "   ------------------------------------ --- 93.2/101.0 MB 3.5 MB/s eta 0:00:03\n",
      "   ------------------------------------ --- 93.3/101.0 MB 3.5 MB/s eta 0:00:03\n",
      "   ------------------------------------- -- 93.5/101.0 MB 3.5 MB/s eta 0:00:03\n",
      "   ------------------------------------- -- 93.6/101.0 MB 3.5 MB/s eta 0:00:03\n",
      "   ------------------------------------- -- 93.6/101.0 MB 3.5 MB/s eta 0:00:03\n",
      "   ------------------------------------- -- 94.1/101.0 MB 3.5 MB/s eta 0:00:02\n",
      "   ------------------------------------- -- 94.3/101.0 MB 3.5 MB/s eta 0:00:02\n",
      "   ------------------------------------- -- 94.4/101.0 MB 3.5 MB/s eta 0:00:02\n",
      "   ------------------------------------- -- 94.6/101.0 MB 3.6 MB/s eta 0:00:02\n",
      "   ------------------------------------- -- 94.8/101.0 MB 3.6 MB/s eta 0:00:02\n",
      "   ------------------------------------- -- 94.9/101.0 MB 3.6 MB/s eta 0:00:02\n",
      "   ------------------------------------- -- 95.2/101.0 MB 3.6 MB/s eta 0:00:02\n",
      "   ------------------------------------- -- 95.4/101.0 MB 3.6 MB/s eta 0:00:02\n",
      "   ------------------------------------- -- 95.5/101.0 MB 3.6 MB/s eta 0:00:02\n",
      "   ------------------------------------- -- 95.7/101.0 MB 3.6 MB/s eta 0:00:02\n",
      "   ------------------------------------- -- 95.8/101.0 MB 3.6 MB/s eta 0:00:02\n",
      "   ------------------------------------- -- 95.9/101.0 MB 3.6 MB/s eta 0:00:02\n",
      "   -------------------------------------- - 96.1/101.0 MB 3.6 MB/s eta 0:00:02\n",
      "   -------------------------------------- - 96.2/101.0 MB 3.6 MB/s eta 0:00:02\n",
      "   -------------------------------------- - 96.5/101.0 MB 3.6 MB/s eta 0:00:02\n",
      "   -------------------------------------- - 96.7/101.0 MB 3.6 MB/s eta 0:00:02\n",
      "   -------------------------------------- - 96.8/101.0 MB 3.6 MB/s eta 0:00:02\n",
      "   -------------------------------------- - 97.1/101.0 MB 3.7 MB/s eta 0:00:02\n",
      "   -------------------------------------- - 97.2/101.0 MB 3.7 MB/s eta 0:00:02\n",
      "   -------------------------------------- - 97.4/101.0 MB 3.7 MB/s eta 0:00:01\n",
      "   -------------------------------------- - 97.6/101.0 MB 3.7 MB/s eta 0:00:01\n",
      "   -------------------------------------- - 97.7/101.0 MB 3.7 MB/s eta 0:00:01\n",
      "   -------------------------------------- - 97.9/101.0 MB 3.7 MB/s eta 0:00:01\n",
      "   -------------------------------------- - 98.1/101.0 MB 3.7 MB/s eta 0:00:01\n",
      "   -------------------------------------- - 98.2/101.0 MB 3.7 MB/s eta 0:00:01\n",
      "   -------------------------------------- - 98.4/101.0 MB 3.8 MB/s eta 0:00:01\n",
      "   ---------------------------------------  98.6/101.0 MB 3.8 MB/s eta 0:00:01\n",
      "   ---------------------------------------  98.8/101.0 MB 3.8 MB/s eta 0:00:01\n",
      "   ---------------------------------------  99.0/101.0 MB 3.8 MB/s eta 0:00:01\n",
      "   ---------------------------------------  99.1/101.0 MB 3.8 MB/s eta 0:00:01\n",
      "   ---------------------------------------  99.4/101.0 MB 3.8 MB/s eta 0:00:01\n",
      "   ---------------------------------------  99.4/101.0 MB 3.8 MB/s eta 0:00:01\n",
      "   ---------------------------------------  99.4/101.0 MB 3.8 MB/s eta 0:00:01\n",
      "   ---------------------------------------  99.8/101.0 MB 3.7 MB/s eta 0:00:01\n",
      "   ---------------------------------------  99.9/101.0 MB 3.7 MB/s eta 0:00:01\n",
      "   ---------------------------------------  100.1/101.0 MB 3.7 MB/s eta 0:00:01\n",
      "   ---------------------------------------  100.2/101.0 MB 3.7 MB/s eta 0:00:01\n",
      "   ---------------------------------------  100.4/101.0 MB 3.7 MB/s eta 0:00:01\n",
      "   ---------------------------------------  100.5/101.0 MB 3.7 MB/s eta 0:00:01\n",
      "   ---------------------------------------  100.7/101.0 MB 3.7 MB/s eta 0:00:01\n",
      "   ---------------------------------------  100.8/101.0 MB 3.7 MB/s eta 0:00:01\n",
      "   ---------------------------------------  101.0/101.0 MB 3.7 MB/s eta 0:00:01\n",
      "   ---------------------------------------  101.0/101.0 MB 3.7 MB/s eta 0:00:01\n",
      "   ---------------------------------------  101.0/101.0 MB 3.7 MB/s eta 0:00:01\n",
      "   ---------------------------------------  101.0/101.0 MB 3.7 MB/s eta 0:00:01\n",
      "   ---------------------------------------  101.0/101.0 MB 3.7 MB/s eta 0:00:01\n",
      "   ---------------------------------------  101.0/101.0 MB 3.7 MB/s eta 0:00:01\n",
      "   ---------------------------------------  101.0/101.0 MB 3.7 MB/s eta 0:00:01\n",
      "   ---------------------------------------  101.0/101.0 MB 3.7 MB/s eta 0:00:01\n",
      "   ---------------------------------------  101.0/101.0 MB 3.7 MB/s eta 0:00:01\n",
      "   ---------------------------------------  101.0/101.0 MB 3.7 MB/s eta 0:00:01\n",
      "   ---------------------------------------  101.0/101.0 MB 3.7 MB/s eta 0:00:01\n",
      "   ---------------------------------------  101.0/101.0 MB 3.7 MB/s eta 0:00:01\n",
      "   ---------------------------------------  101.0/101.0 MB 3.7 MB/s eta 0:00:01\n",
      "   ---------------------------------------  101.0/101.0 MB 3.7 MB/s eta 0:00:01\n",
      "   ---------------------------------------  101.0/101.0 MB 3.7 MB/s eta 0:00:01\n",
      "   ---------------------------------------- 101.0/101.0 MB 2.8 MB/s eta 0:00:00\n",
      "Installing collected packages: graphviz, catboost\n",
      "Successfully installed catboost-1.2.2 graphviz-0.20.1\n",
      "Note: you may need to restart the kernel to use updated packages.\n"
     ]
    }
   ],
   "source": [
    "pip install catboost"
   ]
  },
  {
   "cell_type": "code",
   "execution_count": 66,
   "id": "d06facd8",
   "metadata": {},
   "outputs": [],
   "source": [
    "from catboost import CatBoostClassifier"
   ]
  },
  {
   "cell_type": "code",
   "execution_count": 95,
   "id": "776dfe1c",
   "metadata": {},
   "outputs": [],
   "source": [
    "model_catboost = CatBoostClassifier(iterations=100, learning_rate=0.1, depth=6, loss_function='Logloss', cat_features=[0, 1, 2])\n"
   ]
  },
  {
   "cell_type": "code",
   "execution_count": 96,
   "id": "d4be2e1f",
   "metadata": {},
   "outputs": [
    {
     "name": "stdout",
     "output_type": "stream",
     "text": [
      "0:\tlearn: 0.6929311\ttotal: 43.3ms\tremaining: 4.29s\n",
      "1:\tlearn: 0.6927102\ttotal: 86.4ms\tremaining: 4.24s\n",
      "2:\tlearn: 0.6926075\ttotal: 132ms\tremaining: 4.26s\n",
      "3:\tlearn: 0.6924188\ttotal: 178ms\tremaining: 4.27s\n",
      "4:\tlearn: 0.6922849\ttotal: 225ms\tremaining: 4.26s\n",
      "5:\tlearn: 0.6921320\ttotal: 273ms\tremaining: 4.28s\n",
      "6:\tlearn: 0.6920159\ttotal: 327ms\tremaining: 4.34s\n",
      "7:\tlearn: 0.6918976\ttotal: 372ms\tremaining: 4.28s\n",
      "8:\tlearn: 0.6916598\ttotal: 417ms\tremaining: 4.21s\n",
      "9:\tlearn: 0.6915417\ttotal: 462ms\tremaining: 4.16s\n",
      "10:\tlearn: 0.6913850\ttotal: 512ms\tremaining: 4.14s\n",
      "11:\tlearn: 0.6913327\ttotal: 557ms\tremaining: 4.09s\n",
      "12:\tlearn: 0.6911197\ttotal: 618ms\tremaining: 4.13s\n",
      "13:\tlearn: 0.6910379\ttotal: 666ms\tremaining: 4.09s\n",
      "14:\tlearn: 0.6908854\ttotal: 716ms\tremaining: 4.05s\n",
      "15:\tlearn: 0.6908195\ttotal: 767ms\tremaining: 4.03s\n",
      "16:\tlearn: 0.6906941\ttotal: 818ms\tremaining: 3.99s\n",
      "17:\tlearn: 0.6905643\ttotal: 865ms\tremaining: 3.94s\n",
      "18:\tlearn: 0.6904649\ttotal: 911ms\tremaining: 3.88s\n",
      "19:\tlearn: 0.6903686\ttotal: 964ms\tremaining: 3.85s\n",
      "20:\tlearn: 0.6902821\ttotal: 1.03s\tremaining: 3.88s\n",
      "21:\tlearn: 0.6901477\ttotal: 1.08s\tremaining: 3.83s\n",
      "22:\tlearn: 0.6900818\ttotal: 1.13s\tremaining: 3.78s\n",
      "23:\tlearn: 0.6899640\ttotal: 1.18s\tremaining: 3.73s\n",
      "24:\tlearn: 0.6898105\ttotal: 1.24s\tremaining: 3.71s\n",
      "25:\tlearn: 0.6896410\ttotal: 1.28s\tremaining: 3.65s\n",
      "26:\tlearn: 0.6894968\ttotal: 1.33s\tremaining: 3.6s\n",
      "27:\tlearn: 0.6893303\ttotal: 1.38s\tremaining: 3.54s\n",
      "28:\tlearn: 0.6891620\ttotal: 1.44s\tremaining: 3.52s\n",
      "29:\tlearn: 0.6890900\ttotal: 1.5s\tremaining: 3.5s\n",
      "30:\tlearn: 0.6888289\ttotal: 1.57s\tremaining: 3.49s\n",
      "31:\tlearn: 0.6887765\ttotal: 1.65s\tremaining: 3.5s\n",
      "32:\tlearn: 0.6886885\ttotal: 1.71s\tremaining: 3.47s\n",
      "33:\tlearn: 0.6885979\ttotal: 1.77s\tremaining: 3.44s\n",
      "34:\tlearn: 0.6884481\ttotal: 1.83s\tremaining: 3.4s\n",
      "35:\tlearn: 0.6883324\ttotal: 1.89s\tremaining: 3.35s\n",
      "36:\tlearn: 0.6881463\ttotal: 1.99s\tremaining: 3.39s\n",
      "37:\tlearn: 0.6880624\ttotal: 2.03s\tremaining: 3.32s\n",
      "38:\tlearn: 0.6879815\ttotal: 2.08s\tremaining: 3.25s\n",
      "39:\tlearn: 0.6879160\ttotal: 2.13s\tremaining: 3.2s\n",
      "40:\tlearn: 0.6877997\ttotal: 2.18s\tremaining: 3.14s\n",
      "41:\tlearn: 0.6877595\ttotal: 2.23s\tremaining: 3.07s\n",
      "42:\tlearn: 0.6875666\ttotal: 2.27s\tremaining: 3.01s\n",
      "43:\tlearn: 0.6874758\ttotal: 2.32s\tremaining: 2.95s\n",
      "44:\tlearn: 0.6874374\ttotal: 2.37s\tremaining: 2.9s\n",
      "45:\tlearn: 0.6873114\ttotal: 2.42s\tremaining: 2.85s\n",
      "46:\tlearn: 0.6871153\ttotal: 2.47s\tremaining: 2.79s\n",
      "47:\tlearn: 0.6869421\ttotal: 2.52s\tremaining: 2.73s\n",
      "48:\tlearn: 0.6868239\ttotal: 2.56s\tremaining: 2.67s\n",
      "49:\tlearn: 0.6866972\ttotal: 2.63s\tremaining: 2.63s\n",
      "50:\tlearn: 0.6866352\ttotal: 2.67s\tremaining: 2.57s\n",
      "51:\tlearn: 0.6865247\ttotal: 2.73s\tremaining: 2.52s\n",
      "52:\tlearn: 0.6864262\ttotal: 2.78s\tremaining: 2.46s\n",
      "53:\tlearn: 0.6862526\ttotal: 2.84s\tremaining: 2.42s\n",
      "54:\tlearn: 0.6861689\ttotal: 2.91s\tremaining: 2.38s\n",
      "55:\tlearn: 0.6860068\ttotal: 2.97s\tremaining: 2.34s\n",
      "56:\tlearn: 0.6859657\ttotal: 3.05s\tremaining: 2.3s\n",
      "57:\tlearn: 0.6858988\ttotal: 3.11s\tremaining: 2.25s\n",
      "58:\tlearn: 0.6857756\ttotal: 3.16s\tremaining: 2.19s\n",
      "59:\tlearn: 0.6856697\ttotal: 3.2s\tremaining: 2.14s\n",
      "60:\tlearn: 0.6856305\ttotal: 3.25s\tremaining: 2.08s\n",
      "61:\tlearn: 0.6854160\ttotal: 3.3s\tremaining: 2.02s\n",
      "62:\tlearn: 0.6853839\ttotal: 3.35s\tremaining: 1.97s\n",
      "63:\tlearn: 0.6852127\ttotal: 3.4s\tremaining: 1.91s\n",
      "64:\tlearn: 0.6850716\ttotal: 3.44s\tremaining: 1.85s\n",
      "65:\tlearn: 0.6848637\ttotal: 3.49s\tremaining: 1.8s\n",
      "66:\tlearn: 0.6846592\ttotal: 3.54s\tremaining: 1.74s\n",
      "67:\tlearn: 0.6845503\ttotal: 3.61s\tremaining: 1.7s\n",
      "68:\tlearn: 0.6844874\ttotal: 3.68s\tremaining: 1.65s\n",
      "69:\tlearn: 0.6843494\ttotal: 3.74s\tremaining: 1.6s\n",
      "70:\tlearn: 0.6842226\ttotal: 3.79s\tremaining: 1.55s\n",
      "71:\tlearn: 0.6841143\ttotal: 3.86s\tremaining: 1.5s\n",
      "72:\tlearn: 0.6839518\ttotal: 3.91s\tremaining: 1.45s\n",
      "73:\tlearn: 0.6839518\ttotal: 3.93s\tremaining: 1.38s\n",
      "74:\tlearn: 0.6838387\ttotal: 3.99s\tremaining: 1.33s\n",
      "75:\tlearn: 0.6837586\ttotal: 4.05s\tremaining: 1.28s\n",
      "76:\tlearn: 0.6836830\ttotal: 4.11s\tremaining: 1.23s\n",
      "77:\tlearn: 0.6835339\ttotal: 4.16s\tremaining: 1.17s\n",
      "78:\tlearn: 0.6834638\ttotal: 4.21s\tremaining: 1.12s\n",
      "79:\tlearn: 0.6833895\ttotal: 4.26s\tremaining: 1.06s\n",
      "80:\tlearn: 0.6833528\ttotal: 4.31s\tremaining: 1.01s\n",
      "81:\tlearn: 0.6832594\ttotal: 4.37s\tremaining: 959ms\n",
      "82:\tlearn: 0.6831558\ttotal: 4.42s\tremaining: 906ms\n",
      "83:\tlearn: 0.6830159\ttotal: 4.48s\tremaining: 854ms\n",
      "84:\tlearn: 0.6829316\ttotal: 4.54s\tremaining: 802ms\n",
      "85:\tlearn: 0.6828242\ttotal: 4.62s\tremaining: 753ms\n",
      "86:\tlearn: 0.6827777\ttotal: 4.7s\tremaining: 702ms\n",
      "87:\tlearn: 0.6826667\ttotal: 4.76s\tremaining: 649ms\n",
      "88:\tlearn: 0.6825166\ttotal: 4.82s\tremaining: 595ms\n",
      "89:\tlearn: 0.6823882\ttotal: 4.87s\tremaining: 541ms\n",
      "90:\tlearn: 0.6822321\ttotal: 4.92s\tremaining: 487ms\n",
      "91:\tlearn: 0.6821528\ttotal: 4.97s\tremaining: 432ms\n",
      "92:\tlearn: 0.6819627\ttotal: 5.02s\tremaining: 378ms\n",
      "93:\tlearn: 0.6819004\ttotal: 5.08s\tremaining: 324ms\n",
      "94:\tlearn: 0.6818584\ttotal: 5.15s\tremaining: 271ms\n",
      "95:\tlearn: 0.6817145\ttotal: 5.22s\tremaining: 217ms\n",
      "96:\tlearn: 0.6816199\ttotal: 5.29s\tremaining: 163ms\n",
      "97:\tlearn: 0.6815159\ttotal: 5.35s\tremaining: 109ms\n",
      "98:\tlearn: 0.6813298\ttotal: 5.41s\tremaining: 54.7ms\n",
      "99:\tlearn: 0.6812712\ttotal: 5.46s\tremaining: 0us\n"
     ]
    },
    {
     "data": {
      "text/plain": [
       "<catboost.core.CatBoostClassifier at 0x205e2f40490>"
      ]
     },
     "execution_count": 96,
     "metadata": {},
     "output_type": "execute_result"
    }
   ],
   "source": [
    "model_catboost.fit(X_train,y_train)"
   ]
  },
  {
   "cell_type": "code",
   "execution_count": 97,
   "id": "018503e2",
   "metadata": {},
   "outputs": [],
   "source": [
    "X_train[['winner_ht','winner_age','winner_rank','winner_rank_points','loser_ht','loser_age','loser_rank','loser_rank_points']] = X_train[['winner_ht','winner_age','winner_rank','winner_rank_points','loser_ht','loser_age','loser_rank','loser_rank_points']].astype(int)\n"
   ]
  },
  {
   "cell_type": "code",
   "execution_count": 98,
   "id": "8d12b796",
   "metadata": {},
   "outputs": [
    {
     "name": "stdout",
     "output_type": "stream",
     "text": [
      "<class 'pandas.core.frame.DataFrame'>\n",
      "Int64Index: 7156 entries, 25086 to 25330\n",
      "Data columns (total 25 columns):\n",
      " #   Column              Non-Null Count  Dtype\n",
      "---  ------              --------------  -----\n",
      " 0   draw_size           7156 non-null   int64\n",
      " 1   match_num           7156 non-null   int64\n",
      " 2   winner_ht           7156 non-null   int32\n",
      " 3   winner_age          7156 non-null   int32\n",
      " 4   loser_ht            7156 non-null   int32\n",
      " 5   loser_age           7156 non-null   int32\n",
      " 6   winner_rank         7156 non-null   int32\n",
      " 7   winner_rank_points  7156 non-null   int32\n",
      " 8   loser_rank          7156 non-null   int32\n",
      " 9   loser_rank_points   7156 non-null   int32\n",
      " 10  surface_Carpet      7156 non-null   int64\n",
      " 11  surface_Clay        7156 non-null   int64\n",
      " 12  surface_Grass       7156 non-null   int64\n",
      " 13  surface_Hard        7156 non-null   int64\n",
      " 14  winner_hand_L       7156 non-null   int64\n",
      " 15  winner_hand_R       7156 non-null   int64\n",
      " 16  winner_hand_U       7156 non-null   int64\n",
      " 17  tourney_level_A     7156 non-null   int64\n",
      " 18  tourney_level_D     7156 non-null   int64\n",
      " 19  tourney_level_F     7156 non-null   int64\n",
      " 20  tourney_level_G     7156 non-null   int64\n",
      " 21  tourney_level_M     7156 non-null   int64\n",
      " 22  loser_hand_L        7156 non-null   int64\n",
      " 23  loser_hand_R        7156 non-null   int64\n",
      " 24  loser_hand_U        7156 non-null   int64\n",
      "dtypes: int32(8), int64(17)\n",
      "memory usage: 1.2 MB\n"
     ]
    }
   ],
   "source": [
    "X_valid.info()"
   ]
  },
  {
   "cell_type": "code",
   "execution_count": 99,
   "id": "3775239f",
   "metadata": {},
   "outputs": [],
   "source": [
    "X_valid[['winner_ht','winner_age','winner_rank','winner_rank_points','loser_ht','loser_age','loser_rank','loser_rank_points']] = X_valid[['winner_ht','winner_age','winner_rank','winner_rank_points','loser_ht','loser_age','loser_rank','loser_rank_points']].replace([np.inf, -np.inf], np.iinfo(np.int32).max).fillna(0).astype(int)\n"
   ]
  },
  {
   "cell_type": "code",
   "execution_count": 100,
   "id": "b69b8ef8",
   "metadata": {},
   "outputs": [],
   "source": [
    "pred = model_catboost.predict(X_valid)"
   ]
  },
  {
   "cell_type": "code",
   "execution_count": 101,
   "id": "12fe993a",
   "metadata": {},
   "outputs": [
    {
     "data": {
      "text/plain": [
       "0.4986025712688653"
      ]
     },
     "execution_count": 101,
     "metadata": {},
     "output_type": "execute_result"
    }
   ],
   "source": [
    "accuracy_score(y_valid,pred)"
   ]
  },
  {
   "cell_type": "code",
   "execution_count": 102,
   "id": "c845ef71",
   "metadata": {},
   "outputs": [
    {
     "data": {
      "text/plain": [
       "array([[2913,  724],\n",
       "       [2864,  655]], dtype=int64)"
      ]
     },
     "execution_count": 102,
     "metadata": {},
     "output_type": "execute_result"
    }
   ],
   "source": [
    "confusion_matrix(y_valid,pred)"
   ]
  },
  {
   "cell_type": "code",
   "execution_count": null,
   "id": "609d33ff",
   "metadata": {},
   "outputs": [],
   "source": []
  }
 ],
 "metadata": {
  "kernelspec": {
   "display_name": "Python 3 (ipykernel)",
   "language": "python",
   "name": "python3"
  },
  "language_info": {
   "codemirror_mode": {
    "name": "ipython",
    "version": 3
   },
   "file_extension": ".py",
   "mimetype": "text/x-python",
   "name": "python",
   "nbconvert_exporter": "python",
   "pygments_lexer": "ipython3",
   "version": "3.11.4"
  }
 },
 "nbformat": 4,
 "nbformat_minor": 5
}
